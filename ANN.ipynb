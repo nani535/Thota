{
 "cells": [
  {
   "cell_type": "code",
   "execution_count": 1,
   "metadata": {},
   "outputs": [],
   "source": [
    "import pandas as pd\n",
    "import numpy as np\n",
    "import matplotlib.pyplot as plt\n",
    "import seaborn as sns\n",
    "import warnings\n",
    "warnings.filterwarnings('ignore')"
   ]
  },
  {
   "cell_type": "code",
   "execution_count": 2,
   "metadata": {},
   "outputs": [],
   "source": [
    "data=pd.read_csv(r\"F:\\data sets\\New folder\\train.csv\")"
   ]
  },
  {
   "cell_type": "code",
   "execution_count": 3,
   "metadata": {},
   "outputs": [
    {
     "data": {
      "text/html": [
       "<div>\n",
       "<style scoped>\n",
       "    .dataframe tbody tr th:only-of-type {\n",
       "        vertical-align: middle;\n",
       "    }\n",
       "\n",
       "    .dataframe tbody tr th {\n",
       "        vertical-align: top;\n",
       "    }\n",
       "\n",
       "    .dataframe thead th {\n",
       "        text-align: right;\n",
       "    }\n",
       "</style>\n",
       "<table border=\"1\" class=\"dataframe\">\n",
       "  <thead>\n",
       "    <tr style=\"text-align: right;\">\n",
       "      <th></th>\n",
       "      <th>battery_power</th>\n",
       "      <th>blue</th>\n",
       "      <th>clock_speed</th>\n",
       "      <th>dual_sim</th>\n",
       "      <th>fc</th>\n",
       "      <th>four_g</th>\n",
       "      <th>int_memory</th>\n",
       "      <th>m_dep</th>\n",
       "      <th>mobile_wt</th>\n",
       "      <th>n_cores</th>\n",
       "      <th>...</th>\n",
       "      <th>px_height</th>\n",
       "      <th>px_width</th>\n",
       "      <th>ram</th>\n",
       "      <th>sc_h</th>\n",
       "      <th>sc_w</th>\n",
       "      <th>talk_time</th>\n",
       "      <th>three_g</th>\n",
       "      <th>touch_screen</th>\n",
       "      <th>wifi</th>\n",
       "      <th>price_range</th>\n",
       "    </tr>\n",
       "  </thead>\n",
       "  <tbody>\n",
       "    <tr>\n",
       "      <th>0</th>\n",
       "      <td>842</td>\n",
       "      <td>0</td>\n",
       "      <td>2.2</td>\n",
       "      <td>0</td>\n",
       "      <td>1</td>\n",
       "      <td>0</td>\n",
       "      <td>7</td>\n",
       "      <td>0.6</td>\n",
       "      <td>188</td>\n",
       "      <td>2</td>\n",
       "      <td>...</td>\n",
       "      <td>20</td>\n",
       "      <td>756</td>\n",
       "      <td>2549</td>\n",
       "      <td>9</td>\n",
       "      <td>7</td>\n",
       "      <td>19</td>\n",
       "      <td>0</td>\n",
       "      <td>0</td>\n",
       "      <td>1</td>\n",
       "      <td>1</td>\n",
       "    </tr>\n",
       "    <tr>\n",
       "      <th>1</th>\n",
       "      <td>1021</td>\n",
       "      <td>1</td>\n",
       "      <td>0.5</td>\n",
       "      <td>1</td>\n",
       "      <td>0</td>\n",
       "      <td>1</td>\n",
       "      <td>53</td>\n",
       "      <td>0.7</td>\n",
       "      <td>136</td>\n",
       "      <td>3</td>\n",
       "      <td>...</td>\n",
       "      <td>905</td>\n",
       "      <td>1988</td>\n",
       "      <td>2631</td>\n",
       "      <td>17</td>\n",
       "      <td>3</td>\n",
       "      <td>7</td>\n",
       "      <td>1</td>\n",
       "      <td>1</td>\n",
       "      <td>0</td>\n",
       "      <td>2</td>\n",
       "    </tr>\n",
       "    <tr>\n",
       "      <th>2</th>\n",
       "      <td>563</td>\n",
       "      <td>1</td>\n",
       "      <td>0.5</td>\n",
       "      <td>1</td>\n",
       "      <td>2</td>\n",
       "      <td>1</td>\n",
       "      <td>41</td>\n",
       "      <td>0.9</td>\n",
       "      <td>145</td>\n",
       "      <td>5</td>\n",
       "      <td>...</td>\n",
       "      <td>1263</td>\n",
       "      <td>1716</td>\n",
       "      <td>2603</td>\n",
       "      <td>11</td>\n",
       "      <td>2</td>\n",
       "      <td>9</td>\n",
       "      <td>1</td>\n",
       "      <td>1</td>\n",
       "      <td>0</td>\n",
       "      <td>2</td>\n",
       "    </tr>\n",
       "    <tr>\n",
       "      <th>3</th>\n",
       "      <td>615</td>\n",
       "      <td>1</td>\n",
       "      <td>2.5</td>\n",
       "      <td>0</td>\n",
       "      <td>0</td>\n",
       "      <td>0</td>\n",
       "      <td>10</td>\n",
       "      <td>0.8</td>\n",
       "      <td>131</td>\n",
       "      <td>6</td>\n",
       "      <td>...</td>\n",
       "      <td>1216</td>\n",
       "      <td>1786</td>\n",
       "      <td>2769</td>\n",
       "      <td>16</td>\n",
       "      <td>8</td>\n",
       "      <td>11</td>\n",
       "      <td>1</td>\n",
       "      <td>0</td>\n",
       "      <td>0</td>\n",
       "      <td>2</td>\n",
       "    </tr>\n",
       "    <tr>\n",
       "      <th>4</th>\n",
       "      <td>1821</td>\n",
       "      <td>1</td>\n",
       "      <td>1.2</td>\n",
       "      <td>0</td>\n",
       "      <td>13</td>\n",
       "      <td>1</td>\n",
       "      <td>44</td>\n",
       "      <td>0.6</td>\n",
       "      <td>141</td>\n",
       "      <td>2</td>\n",
       "      <td>...</td>\n",
       "      <td>1208</td>\n",
       "      <td>1212</td>\n",
       "      <td>1411</td>\n",
       "      <td>8</td>\n",
       "      <td>2</td>\n",
       "      <td>15</td>\n",
       "      <td>1</td>\n",
       "      <td>1</td>\n",
       "      <td>0</td>\n",
       "      <td>1</td>\n",
       "    </tr>\n",
       "  </tbody>\n",
       "</table>\n",
       "<p>5 rows × 21 columns</p>\n",
       "</div>"
      ],
      "text/plain": [
       "   battery_power  blue  clock_speed  dual_sim  fc  four_g  int_memory  m_dep  \\\n",
       "0            842     0          2.2         0   1       0           7    0.6   \n",
       "1           1021     1          0.5         1   0       1          53    0.7   \n",
       "2            563     1          0.5         1   2       1          41    0.9   \n",
       "3            615     1          2.5         0   0       0          10    0.8   \n",
       "4           1821     1          1.2         0  13       1          44    0.6   \n",
       "\n",
       "   mobile_wt  n_cores  ...  px_height  px_width   ram  sc_h  sc_w  talk_time  \\\n",
       "0        188        2  ...         20       756  2549     9     7         19   \n",
       "1        136        3  ...        905      1988  2631    17     3          7   \n",
       "2        145        5  ...       1263      1716  2603    11     2          9   \n",
       "3        131        6  ...       1216      1786  2769    16     8         11   \n",
       "4        141        2  ...       1208      1212  1411     8     2         15   \n",
       "\n",
       "   three_g  touch_screen  wifi  price_range  \n",
       "0        0             0     1            1  \n",
       "1        1             1     0            2  \n",
       "2        1             1     0            2  \n",
       "3        1             0     0            2  \n",
       "4        1             1     0            1  \n",
       "\n",
       "[5 rows x 21 columns]"
      ]
     },
     "execution_count": 3,
     "metadata": {},
     "output_type": "execute_result"
    }
   ],
   "source": [
    "data.head()"
   ]
  },
  {
   "cell_type": "code",
   "execution_count": 4,
   "metadata": {},
   "outputs": [
    {
     "name": "stdout",
     "output_type": "stream",
     "text": [
      "<class 'pandas.core.frame.DataFrame'>\n",
      "RangeIndex: 2000 entries, 0 to 1999\n",
      "Data columns (total 21 columns):\n",
      "battery_power    2000 non-null int64\n",
      "blue             2000 non-null int64\n",
      "clock_speed      2000 non-null float64\n",
      "dual_sim         2000 non-null int64\n",
      "fc               2000 non-null int64\n",
      "four_g           2000 non-null int64\n",
      "int_memory       2000 non-null int64\n",
      "m_dep            2000 non-null float64\n",
      "mobile_wt        2000 non-null int64\n",
      "n_cores          2000 non-null int64\n",
      "pc               2000 non-null int64\n",
      "px_height        2000 non-null int64\n",
      "px_width         2000 non-null int64\n",
      "ram              2000 non-null int64\n",
      "sc_h             2000 non-null int64\n",
      "sc_w             2000 non-null int64\n",
      "talk_time        2000 non-null int64\n",
      "three_g          2000 non-null int64\n",
      "touch_screen     2000 non-null int64\n",
      "wifi             2000 non-null int64\n",
      "price_range      2000 non-null int64\n",
      "dtypes: float64(2), int64(19)\n",
      "memory usage: 328.2 KB\n"
     ]
    }
   ],
   "source": [
    "data.info()"
   ]
  },
  {
   "cell_type": "code",
   "execution_count": 5,
   "metadata": {},
   "outputs": [],
   "source": [
    "features=data.iloc[:,:-1].values\n",
    "label=data.iloc[:,[-1]].values"
   ]
  },
  {
   "cell_type": "code",
   "execution_count": 6,
   "metadata": {},
   "outputs": [
    {
     "name": "stdout",
     "output_type": "stream",
     "text": [
      "features: (2000, 20)\n",
      "label: (2000, 1)\n"
     ]
    }
   ],
   "source": [
    "print(\"features:\",features.shape)\n",
    "print(\"label:\",label.shape)"
   ]
  },
  {
   "cell_type": "code",
   "execution_count": 7,
   "metadata": {},
   "outputs": [
    {
     "data": {
      "text/plain": [
       "2"
      ]
     },
     "execution_count": 7,
     "metadata": {},
     "output_type": "execute_result"
    }
   ],
   "source": [
    "features.ndim"
   ]
  },
  {
   "cell_type": "code",
   "execution_count": 8,
   "metadata": {},
   "outputs": [],
   "source": [
    "#normalizing the data why?\n",
    "#1:-when we have more input features at time it is required to improve the accurancy\n",
    "#2:-it is used to change the calues into a common scale without destroying the previous\n",
    "#3:-after applying normalization there is a change in accurancy "
   ]
  },
  {
   "cell_type": "code",
   "execution_count": 9,
   "metadata": {},
   "outputs": [],
   "source": [
    "from sklearn.preprocessing import StandardScaler\n",
    "scaler=StandardScaler()\n",
    "features=scaler.fit_transform(features)"
   ]
  },
  {
   "cell_type": "code",
   "execution_count": 10,
   "metadata": {},
   "outputs": [
    {
     "data": {
      "text/plain": [
       "3    500\n",
       "2    500\n",
       "1    500\n",
       "0    500\n",
       "Name: price_range, dtype: int64"
      ]
     },
     "execution_count": 10,
     "metadata": {},
     "output_type": "execute_result"
    }
   ],
   "source": [
    "#perform one hot encoading\n",
    "#because it has three values we are converting into binary classfication\n",
    "data[\"price_range\"].value_counts()"
   ]
  },
  {
   "cell_type": "code",
   "execution_count": 11,
   "metadata": {},
   "outputs": [],
   "source": [
    "from sklearn.preprocessing import OneHotEncoder\n",
    "ohe=OneHotEncoder()\n",
    "label=ohe.fit_transform(label).toarray()"
   ]
  },
  {
   "cell_type": "code",
   "execution_count": 12,
   "metadata": {},
   "outputs": [],
   "source": [
    "from sklearn.model_selection import train_test_split\n",
    "X_train,X_test,y_train,y_test=train_test_split(features,label,test_size=0.2)"
   ]
  },
  {
   "cell_type": "code",
   "execution_count": 13,
   "metadata": {},
   "outputs": [
    {
     "name": "stderr",
     "output_type": "stream",
     "text": [
      "Using TensorFlow backend.\n"
     ]
    }
   ],
   "source": [
    "import keras"
   ]
  },
  {
   "cell_type": "code",
   "execution_count": 14,
   "metadata": {},
   "outputs": [],
   "source": [
    "from keras.models import Sequential\n",
    "from keras.layers import Dense"
   ]
  },
  {
   "cell_type": "code",
   "execution_count": 15,
   "metadata": {},
   "outputs": [
    {
     "name": "stdout",
     "output_type": "stream",
     "text": [
      "WARNING:tensorflow:From C:\\Users\\thota\\Anaconda3\\lib\\site-packages\\keras\\backend\\tensorflow_backend.py:74: The name tf.get_default_graph is deprecated. Please use tf.compat.v1.get_default_graph instead.\n",
      "\n",
      "WARNING:tensorflow:From C:\\Users\\thota\\Anaconda3\\lib\\site-packages\\keras\\backend\\tensorflow_backend.py:517: The name tf.placeholder is deprecated. Please use tf.compat.v1.placeholder instead.\n",
      "\n",
      "WARNING:tensorflow:From C:\\Users\\thota\\Anaconda3\\lib\\site-packages\\keras\\backend\\tensorflow_backend.py:4138: The name tf.random_uniform is deprecated. Please use tf.random.uniform instead.\n",
      "\n"
     ]
    }
   ],
   "source": [
    "model=Sequential()\n",
    "model.add(Dense(16,activation='relu',input_dim=20))\n",
    "model.add(Dense(15,activation='relu'))\n",
    "model.add(Dense(4,activation='softmax'))"
   ]
  },
  {
   "cell_type": "code",
   "execution_count": 16,
   "metadata": {},
   "outputs": [
    {
     "name": "stdout",
     "output_type": "stream",
     "text": [
      "WARNING:tensorflow:From C:\\Users\\thota\\Anaconda3\\lib\\site-packages\\keras\\optimizers.py:790: The name tf.train.Optimizer is deprecated. Please use tf.compat.v1.train.Optimizer instead.\n",
      "\n",
      "WARNING:tensorflow:From C:\\Users\\thota\\Anaconda3\\lib\\site-packages\\keras\\backend\\tensorflow_backend.py:3295: The name tf.log is deprecated. Please use tf.math.log instead.\n",
      "\n"
     ]
    }
   ],
   "source": [
    "model.compile(loss='categorical_crossentropy',optimizer='adam',metrics=['accuracy'])"
   ]
  },
  {
   "cell_type": "code",
   "execution_count": 17,
   "metadata": {},
   "outputs": [
    {
     "name": "stdout",
     "output_type": "stream",
     "text": [
      "WARNING:tensorflow:From C:\\Users\\thota\\Anaconda3\\lib\\site-packages\\tensorflow\\python\\ops\\math_grad.py:1250: add_dispatch_support.<locals>.wrapper (from tensorflow.python.ops.array_ops) is deprecated and will be removed in a future version.\n",
      "Instructions for updating:\n",
      "Use tf.where in 2.0, which has the same broadcast rule as np.where\n",
      "WARNING:tensorflow:From C:\\Users\\thota\\Anaconda3\\lib\\site-packages\\keras\\backend\\tensorflow_backend.py:986: The name tf.assign_add is deprecated. Please use tf.compat.v1.assign_add instead.\n",
      "\n",
      "Epoch 1/100\n",
      "1600/1600 [==============================] - 23s 14ms/step - loss: 1.4444 - acc: 0.2644\n",
      "Epoch 2/100\n",
      "1600/1600 [==============================] - 0s 125us/step - loss: 1.3587 - acc: 0.3163\n",
      "Epoch 3/100\n",
      "1600/1600 [==============================] - 0s 87us/step - loss: 1.3012 - acc: 0.3906\n",
      "Epoch 4/100\n",
      "1600/1600 [==============================] - 0s 75us/step - loss: 1.2429 - acc: 0.4313\n",
      "Epoch 5/100\n",
      "1600/1600 [==============================] - 0s 78us/step - loss: 1.1758 - acc: 0.4794: 0s - loss: 1.1749 - acc: 0.476\n",
      "Epoch 6/100\n",
      "1600/1600 [==============================] - 0s 78us/step - loss: 1.0974 - acc: 0.5237\n",
      "Epoch 7/100\n",
      "1600/1600 [==============================] - 0s 79us/step - loss: 1.0144 - acc: 0.5650\n",
      "Epoch 8/100\n",
      "1600/1600 [==============================] - 0s 78us/step - loss: 0.9318 - acc: 0.6038\n",
      "Epoch 9/100\n",
      "1600/1600 [==============================] - 0s 80us/step - loss: 0.8535 - acc: 0.6394\n",
      "Epoch 10/100\n",
      "1600/1600 [==============================] - 0s 92us/step - loss: 0.7809 - acc: 0.6887\n",
      "Epoch 11/100\n",
      "1600/1600 [==============================] - 0s 107us/step - loss: 0.7156 - acc: 0.7375\n",
      "Epoch 12/100\n",
      "1600/1600 [==============================] - 0s 112us/step - loss: 0.6580 - acc: 0.7737 0s - loss: 0.6599 - acc: 0.77\n",
      "Epoch 13/100\n",
      "1600/1600 [==============================] - 0s 94us/step - loss: 0.6071 - acc: 0.7956\n",
      "Epoch 14/100\n",
      "1600/1600 [==============================] - 0s 84us/step - loss: 0.5620 - acc: 0.8163\n",
      "Epoch 15/100\n",
      "1600/1600 [==============================] - 0s 93us/step - loss: 0.5214 - acc: 0.8425\n",
      "Epoch 16/100\n",
      "1600/1600 [==============================] - 0s 98us/step - loss: 0.4850 - acc: 0.8562\n",
      "Epoch 17/100\n",
      "1600/1600 [==============================] - 0s 93us/step - loss: 0.4539 - acc: 0.8719\n",
      "Epoch 18/100\n",
      "1600/1600 [==============================] - 0s 85us/step - loss: 0.4235 - acc: 0.8775\n",
      "Epoch 19/100\n",
      "1600/1600 [==============================] - 0s 87us/step - loss: 0.3961 - acc: 0.8900\n",
      "Epoch 20/100\n",
      "1600/1600 [==============================] - ETA: 0s - loss: 0.3685 - acc: 0.904 - 0s 96us/step - loss: 0.3723 - acc: 0.8969\n",
      "Epoch 21/100\n",
      "1600/1600 [==============================] - 0s 117us/step - loss: 0.3493 - acc: 0.9031\n",
      "Epoch 22/100\n",
      "1600/1600 [==============================] - 0s 120us/step - loss: 0.3283 - acc: 0.9113\n",
      "Epoch 23/100\n",
      "1600/1600 [==============================] - 0s 89us/step - loss: 0.3090 - acc: 0.9150\n",
      "Epoch 24/100\n",
      "1600/1600 [==============================] - 0s 81us/step - loss: 0.2920 - acc: 0.9187\n",
      "Epoch 25/100\n",
      "1600/1600 [==============================] - 0s 84us/step - loss: 0.2763 - acc: 0.9250\n",
      "Epoch 26/100\n",
      "1600/1600 [==============================] - 0s 79us/step - loss: 0.2611 - acc: 0.9263\n",
      "Epoch 27/100\n",
      "1600/1600 [==============================] - 0s 80us/step - loss: 0.2463 - acc: 0.9337\n",
      "Epoch 28/100\n",
      "1600/1600 [==============================] - 0s 80us/step - loss: 0.2348 - acc: 0.9350\n",
      "Epoch 29/100\n",
      "1600/1600 [==============================] - 0s 90us/step - loss: 0.2230 - acc: 0.9375\n",
      "Epoch 30/100\n",
      "1600/1600 [==============================] - 0s 68us/step - loss: 0.2138 - acc: 0.9438\n",
      "Epoch 31/100\n",
      "1600/1600 [==============================] - 0s 69us/step - loss: 0.2031 - acc: 0.9450\n",
      "Epoch 32/100\n",
      "1600/1600 [==============================] - 0s 79us/step - loss: 0.1948 - acc: 0.9500\n",
      "Epoch 33/100\n",
      "1600/1600 [==============================] - 0s 80us/step - loss: 0.1862 - acc: 0.9506\n",
      "Epoch 34/100\n",
      "1600/1600 [==============================] - 0s 75us/step - loss: 0.1792 - acc: 0.9550\n",
      "Epoch 35/100\n",
      "1600/1600 [==============================] - 0s 84us/step - loss: 0.1722 - acc: 0.9544\n",
      "Epoch 36/100\n",
      "1600/1600 [==============================] - 0s 84us/step - loss: 0.1651 - acc: 0.9563\n",
      "Epoch 37/100\n",
      "1600/1600 [==============================] - 0s 93us/step - loss: 0.1595 - acc: 0.9575\n",
      "Epoch 38/100\n",
      "1600/1600 [==============================] - 0s 89us/step - loss: 0.1529 - acc: 0.9625\n",
      "Epoch 39/100\n",
      "1600/1600 [==============================] - 0s 86us/step - loss: 0.1482 - acc: 0.9600\n",
      "Epoch 40/100\n",
      "1600/1600 [==============================] - 0s 120us/step - loss: 0.1430 - acc: 0.9619\n",
      "Epoch 41/100\n",
      "1600/1600 [==============================] - 0s 150us/step - loss: 0.1375 - acc: 0.9644\n",
      "Epoch 42/100\n",
      "1600/1600 [==============================] - 0s 134us/step - loss: 0.1336 - acc: 0.9675\n",
      "Epoch 43/100\n",
      "1600/1600 [==============================] - 0s 110us/step - loss: 0.1293 - acc: 0.9644\n",
      "Epoch 44/100\n",
      "1600/1600 [==============================] - 0s 113us/step - loss: 0.1248 - acc: 0.9675\n",
      "Epoch 45/100\n",
      "1600/1600 [==============================] - 0s 98us/step - loss: 0.1216 - acc: 0.9694\n",
      "Epoch 46/100\n",
      "1600/1600 [==============================] - 0s 102us/step - loss: 0.1178 - acc: 0.9700\n",
      "Epoch 47/100\n",
      "1600/1600 [==============================] - 0s 101us/step - loss: 0.1145 - acc: 0.9713\n",
      "Epoch 48/100\n",
      "1600/1600 [==============================] - 0s 120us/step - loss: 0.1116 - acc: 0.9725\n",
      "Epoch 49/100\n",
      "1600/1600 [==============================] - 0s 116us/step - loss: 0.1078 - acc: 0.9719\n",
      "Epoch 50/100\n",
      "1600/1600 [==============================] - 0s 97us/step - loss: 0.1050 - acc: 0.9750\n",
      "Epoch 51/100\n",
      "1600/1600 [==============================] - 0s 108us/step - loss: 0.1018 - acc: 0.9756\n",
      "Epoch 52/100\n",
      "1600/1600 [==============================] - 0s 145us/step - loss: 0.0993 - acc: 0.9769\n",
      "Epoch 53/100\n",
      "1600/1600 [==============================] - 0s 142us/step - loss: 0.0967 - acc: 0.9794\n",
      "Epoch 54/100\n",
      "1600/1600 [==============================] - 0s 174us/step - loss: 0.0946 - acc: 0.9763\n",
      "Epoch 55/100\n",
      "1600/1600 [==============================] - 0s 122us/step - loss: 0.0915 - acc: 0.9800\n",
      "Epoch 56/100\n",
      "1600/1600 [==============================] - 0s 92us/step - loss: 0.0893 - acc: 0.9831\n",
      "Epoch 57/100\n",
      "1600/1600 [==============================] - 0s 85us/step - loss: 0.0874 - acc: 0.9806\n",
      "Epoch 58/100\n",
      "1600/1600 [==============================] - 0s 80us/step - loss: 0.0851 - acc: 0.9831\n",
      "Epoch 59/100\n",
      "1600/1600 [==============================] - 0s 190us/step - loss: 0.0833 - acc: 0.9831\n",
      "Epoch 60/100\n",
      "1600/1600 [==============================] - 0s 143us/step - loss: 0.0812 - acc: 0.9831\n",
      "Epoch 61/100\n",
      "1600/1600 [==============================] - 0s 112us/step - loss: 0.0794 - acc: 0.9838\n",
      "Epoch 62/100\n",
      "1600/1600 [==============================] - 0s 196us/step - loss: 0.0772 - acc: 0.9794\n",
      "Epoch 63/100\n",
      "1600/1600 [==============================] - 0s 136us/step - loss: 0.0754 - acc: 0.9856\n",
      "Epoch 64/100\n",
      "1600/1600 [==============================] - 0s 153us/step - loss: 0.0735 - acc: 0.9844\n",
      "Epoch 65/100\n",
      "1600/1600 [==============================] - 0s 147us/step - loss: 0.0726 - acc: 0.9850\n",
      "Epoch 66/100\n",
      "1600/1600 [==============================] - 0s 154us/step - loss: 0.0707 - acc: 0.9838\n",
      "Epoch 67/100\n",
      "1600/1600 [==============================] - 0s 89us/step - loss: 0.0689 - acc: 0.9875\n",
      "Epoch 68/100\n",
      "1600/1600 [==============================] - 0s 103us/step - loss: 0.0676 - acc: 0.9888\n",
      "Epoch 69/100\n",
      "1600/1600 [==============================] - 0s 187us/step - loss: 0.0657 - acc: 0.9862\n",
      "Epoch 70/100\n",
      "1600/1600 [==============================] - 0s 201us/step - loss: 0.0644 - acc: 0.9888\n",
      "Epoch 71/100\n",
      "1600/1600 [==============================] - 0s 108us/step - loss: 0.0629 - acc: 0.9894\n",
      "Epoch 72/100\n",
      "1600/1600 [==============================] - 0s 86us/step - loss: 0.0614 - acc: 0.9913\n",
      "Epoch 73/100\n",
      "1600/1600 [==============================] - 0s 95us/step - loss: 0.0610 - acc: 0.9900\n",
      "Epoch 74/100\n",
      "1600/1600 [==============================] - 0s 85us/step - loss: 0.0596 - acc: 0.9906\n",
      "Epoch 75/100\n",
      "1600/1600 [==============================] - 0s 85us/step - loss: 0.0582 - acc: 0.9906\n",
      "Epoch 76/100\n"
     ]
    },
    {
     "name": "stdout",
     "output_type": "stream",
     "text": [
      "1600/1600 [==============================] - 0s 107us/step - loss: 0.0571 - acc: 0.9925\n",
      "Epoch 77/100\n",
      "1600/1600 [==============================] - 0s 135us/step - loss: 0.0554 - acc: 0.9931\n",
      "Epoch 78/100\n",
      "1600/1600 [==============================] - 0s 126us/step - loss: 0.0541 - acc: 0.9937\n",
      "Epoch 79/100\n",
      "1600/1600 [==============================] - 0s 140us/step - loss: 0.0529 - acc: 0.9931\n",
      "Epoch 80/100\n",
      "1600/1600 [==============================] - 0s 98us/step - loss: 0.0520 - acc: 0.9931\n",
      "Epoch 81/100\n",
      "1600/1600 [==============================] - 0s 115us/step - loss: 0.0507 - acc: 0.9937\n",
      "Epoch 82/100\n",
      "1600/1600 [==============================] - 0s 119us/step - loss: 0.0503 - acc: 0.9950\n",
      "Epoch 83/100\n",
      "1600/1600 [==============================] - 0s 127us/step - loss: 0.0487 - acc: 0.9944\n",
      "Epoch 84/100\n",
      "1600/1600 [==============================] - 0s 98us/step - loss: 0.0483 - acc: 0.9950\n",
      "Epoch 85/100\n",
      "1600/1600 [==============================] - 0s 84us/step - loss: 0.0463 - acc: 0.9969\n",
      "Epoch 86/100\n",
      "1600/1600 [==============================] - 0s 96us/step - loss: 0.0455 - acc: 0.9969\n",
      "Epoch 87/100\n",
      "1600/1600 [==============================] - 0s 132us/step - loss: 0.0445 - acc: 0.9962 0s - loss: 0.0448 - acc: 0.996\n",
      "Epoch 88/100\n",
      "1600/1600 [==============================] - 0s 106us/step - loss: 0.0435 - acc: 0.9962\n",
      "Epoch 89/100\n",
      "1600/1600 [==============================] - 0s 95us/step - loss: 0.0435 - acc: 0.9962\n",
      "Epoch 90/100\n",
      "1600/1600 [==============================] - 0s 84us/step - loss: 0.0422 - acc: 0.9969\n",
      "Epoch 91/100\n",
      "1600/1600 [==============================] - 0s 85us/step - loss: 0.0410 - acc: 0.9975\n",
      "Epoch 92/100\n",
      "1600/1600 [==============================] - 0s 84us/step - loss: 0.0403 - acc: 0.9969\n",
      "Epoch 93/100\n",
      "1600/1600 [==============================] - 0s 90us/step - loss: 0.0399 - acc: 0.9975\n",
      "Epoch 94/100\n",
      "1600/1600 [==============================] - 0s 118us/step - loss: 0.0388 - acc: 0.9975\n",
      "Epoch 95/100\n",
      "1600/1600 [==============================] - 0s 87us/step - loss: 0.0379 - acc: 0.9975\n",
      "Epoch 96/100\n",
      "1600/1600 [==============================] - 0s 87us/step - loss: 0.0380 - acc: 0.9975\n",
      "Epoch 97/100\n",
      "1600/1600 [==============================] - 0s 82us/step - loss: 0.0368 - acc: 0.9975\n",
      "Epoch 98/100\n",
      "1600/1600 [==============================] - 0s 123us/step - loss: 0.0361 - acc: 0.9975\n",
      "Epoch 99/100\n",
      "1600/1600 [==============================] - 0s 118us/step - loss: 0.0356 - acc: 0.9981\n",
      "Epoch 100/100\n",
      "1600/1600 [==============================] - 0s 115us/step - loss: 0.0344 - acc: 0.9988\n"
     ]
    }
   ],
   "source": [
    "histoy=model.fit(X_train,y_train,epochs=100,batch_size=64)"
   ]
  },
  {
   "cell_type": "code",
   "execution_count": null,
   "metadata": {},
   "outputs": [],
   "source": []
  },
  {
   "cell_type": "code",
   "execution_count": 18,
   "metadata": {},
   "outputs": [],
   "source": [
    "y_pred=model.predict(X_test)\n",
    "pred = list()\n",
    "for i in range(len(y_pred)):\n",
    "    pred.append(np.argmax(y_pred[i]))"
   ]
  },
  {
   "cell_type": "code",
   "execution_count": 19,
   "metadata": {},
   "outputs": [],
   "source": [
    "test = list()\n",
    "for i in range(len(y_test)):\n",
    "    test.append(np.argmax(y_test[i]))"
   ]
  },
  {
   "cell_type": "code",
   "execution_count": 20,
   "metadata": {},
   "outputs": [],
   "source": [
    "from sklearn.metrics import accuracy_score\n",
    "score=accuracy_score(pred,test)\n"
   ]
  },
  {
   "cell_type": "code",
   "execution_count": 29,
   "metadata": {},
   "outputs": [
    {
     "data": {
      "text/plain": [
       "89.0"
      ]
     },
     "execution_count": 29,
     "metadata": {},
     "output_type": "execute_result"
    }
   ],
   "source": [
    "score*100"
   ]
  },
  {
   "cell_type": "code",
   "execution_count": 22,
   "metadata": {},
   "outputs": [
    {
     "name": "stdout",
     "output_type": "stream",
     "text": [
      "Train on 1600 samples, validate on 400 samples\n",
      "Epoch 1/100\n",
      "1600/1600 [==============================] - 1s 531us/step - loss: 0.0397 - acc: 0.9931 - val_loss: 0.3046 - val_acc: 0.8825\n",
      "Epoch 2/100\n",
      "1600/1600 [==============================] - 0s 262us/step - loss: 0.0383 - acc: 0.9962 - val_loss: 0.3063 - val_acc: 0.8900\n",
      "Epoch 3/100\n",
      "1600/1600 [==============================] - 0s 276us/step - loss: 0.0344 - acc: 0.9962 - val_loss: 0.2994 - val_acc: 0.8850\n",
      "Epoch 4/100\n",
      "1600/1600 [==============================] - 0s 231us/step - loss: 0.0344 - acc: 0.9975 - val_loss: 0.3186 - val_acc: 0.8925\n",
      "Epoch 5/100\n",
      "1600/1600 [==============================] - 0s 258us/step - loss: 0.0317 - acc: 0.9969 - val_loss: 0.3030 - val_acc: 0.8925\n",
      "Epoch 6/100\n",
      "1600/1600 [==============================] - 0s 287us/step - loss: 0.0321 - acc: 0.9975 - val_loss: 0.3119 - val_acc: 0.8900\n",
      "Epoch 7/100\n",
      "1600/1600 [==============================] - 1s 333us/step - loss: 0.0306 - acc: 0.9969 - val_loss: 0.3190 - val_acc: 0.8900\n",
      "Epoch 8/100\n",
      "1600/1600 [==============================] - 1s 468us/step - loss: 0.0290 - acc: 0.9969 - val_loss: 0.3233 - val_acc: 0.8825\n",
      "Epoch 9/100\n",
      "1600/1600 [==============================] - 1s 362us/step - loss: 0.0265 - acc: 0.9994 - val_loss: 0.3257 - val_acc: 0.8875\n",
      "Epoch 10/100\n",
      "1600/1600 [==============================] - 1s 480us/step - loss: 0.0258 - acc: 0.9987 - val_loss: 0.3396 - val_acc: 0.8875\n",
      "Epoch 11/100\n",
      "1600/1600 [==============================] - 1s 424us/step - loss: 0.0245 - acc: 0.9981 - val_loss: 0.3349 - val_acc: 0.8850\n",
      "Epoch 12/100\n",
      "1600/1600 [==============================] - 1s 366us/step - loss: 0.0236 - acc: 0.9987 - val_loss: 0.3227 - val_acc: 0.8875\n",
      "Epoch 13/100\n",
      "1600/1600 [==============================] - 1s 419us/step - loss: 0.0221 - acc: 0.9987 - val_loss: 0.3470 - val_acc: 0.8825\n",
      "Epoch 14/100\n",
      "1600/1600 [==============================] - 0s 247us/step - loss: 0.0220 - acc: 0.9987 - val_loss: 0.3412 - val_acc: 0.8950\n",
      "Epoch 15/100\n",
      "1600/1600 [==============================] - 1s 543us/step - loss: 0.0219 - acc: 0.9987 - val_loss: 0.3456 - val_acc: 0.8975\n",
      "Epoch 16/100\n",
      "1600/1600 [==============================] - 0s 293us/step - loss: 0.0199 - acc: 1.0000 - val_loss: 0.3474 - val_acc: 0.8950\n",
      "Epoch 17/100\n",
      "1600/1600 [==============================] - 0s 283us/step - loss: 0.0195 - acc: 0.9994 - val_loss: 0.3380 - val_acc: 0.8875\n",
      "Epoch 18/100\n",
      "1600/1600 [==============================] - 0s 296us/step - loss: 0.0188 - acc: 1.0000 - val_loss: 0.3459 - val_acc: 0.8900\n",
      "Epoch 19/100\n",
      "1600/1600 [==============================] - 0s 229us/step - loss: 0.0178 - acc: 0.9994 - val_loss: 0.3479 - val_acc: 0.8875\n",
      "Epoch 20/100\n",
      "1600/1600 [==============================] - 0s 216us/step - loss: 0.0172 - acc: 0.9994 - val_loss: 0.3452 - val_acc: 0.8900\n",
      "Epoch 21/100\n",
      "1600/1600 [==============================] - 0s 259us/step - loss: 0.0166 - acc: 0.9994 - val_loss: 0.3465 - val_acc: 0.8925\n",
      "Epoch 22/100\n",
      "1600/1600 [==============================] - 1s 350us/step - loss: 0.0159 - acc: 1.0000 - val_loss: 0.3578 - val_acc: 0.8925\n",
      "Epoch 23/100\n",
      "1600/1600 [==============================] - 1s 328us/step - loss: 0.0157 - acc: 1.0000 - val_loss: 0.3578 - val_acc: 0.8875\n",
      "Epoch 24/100\n",
      "1600/1600 [==============================] - 0s 236us/step - loss: 0.0154 - acc: 1.0000 - val_loss: 0.3627 - val_acc: 0.8925\n",
      "Epoch 25/100\n",
      "1600/1600 [==============================] - 0s 224us/step - loss: 0.0146 - acc: 1.0000 - val_loss: 0.3635 - val_acc: 0.8900\n",
      "Epoch 26/100\n",
      "1600/1600 [==============================] - 0s 234us/step - loss: 0.0142 - acc: 0.9994 - val_loss: 0.3655 - val_acc: 0.8900\n",
      "Epoch 27/100\n",
      "1600/1600 [==============================] - 0s 244us/step - loss: 0.0140 - acc: 0.9994 - val_loss: 0.3823 - val_acc: 0.8875\n",
      "Epoch 28/100\n",
      "1600/1600 [==============================] - 0s 205us/step - loss: 0.0137 - acc: 1.0000 - val_loss: 0.3869 - val_acc: 0.8900\n",
      "Epoch 29/100\n",
      "1600/1600 [==============================] - 0s 195us/step - loss: 0.0125 - acc: 1.0000 - val_loss: 0.3748 - val_acc: 0.8900\n",
      "Epoch 30/100\n",
      "1600/1600 [==============================] - 0s 209us/step - loss: 0.0122 - acc: 1.0000 - val_loss: 0.3796 - val_acc: 0.8850\n",
      "Epoch 31/100\n",
      "1600/1600 [==============================] - 1s 313us/step - loss: 0.0118 - acc: 0.9994 - val_loss: 0.3917 - val_acc: 0.8900\n",
      "Epoch 32/100\n",
      "1600/1600 [==============================] - 0s 288us/step - loss: 0.0119 - acc: 1.0000 - val_loss: 0.3858 - val_acc: 0.8900\n",
      "Epoch 33/100\n",
      "1600/1600 [==============================] - 0s 308us/step - loss: 0.0110 - acc: 1.0000 - val_loss: 0.3730 - val_acc: 0.8850\n",
      "Epoch 34/100\n",
      "1600/1600 [==============================] - 1s 345us/step - loss: 0.0105 - acc: 1.0000 - val_loss: 0.4124 - val_acc: 0.8900\n",
      "Epoch 35/100\n",
      "1600/1600 [==============================] - 0s 303us/step - loss: 0.0115 - acc: 0.9994 - val_loss: 0.3951 - val_acc: 0.8850\n",
      "Epoch 36/100\n",
      "1600/1600 [==============================] - 1s 356us/step - loss: 0.0099 - acc: 1.0000 - val_loss: 0.3886 - val_acc: 0.8850\n",
      "Epoch 37/100\n",
      "1600/1600 [==============================] - 1s 396us/step - loss: 0.0095 - acc: 1.0000 - val_loss: 0.4035 - val_acc: 0.8950\n",
      "Epoch 38/100\n",
      "1600/1600 [==============================] - 1s 332us/step - loss: 0.0094 - acc: 0.9994 - val_loss: 0.3893 - val_acc: 0.8925\n",
      "Epoch 39/100\n",
      "1600/1600 [==============================] - 0s 284us/step - loss: 0.0090 - acc: 1.0000 - val_loss: 0.4015 - val_acc: 0.8925\n",
      "Epoch 40/100\n",
      "1600/1600 [==============================] - 0s 307us/step - loss: 0.0083 - acc: 1.0000 - val_loss: 0.4067 - val_acc: 0.8875\n",
      "Epoch 41/100\n",
      "1600/1600 [==============================] - 0s 263us/step - loss: 0.0083 - acc: 1.0000 - val_loss: 0.4086 - val_acc: 0.8900\n",
      "Epoch 42/100\n",
      "1600/1600 [==============================] - 0s 200us/step - loss: 0.0082 - acc: 1.0000 - val_loss: 0.4232 - val_acc: 0.8900\n",
      "Epoch 43/100\n",
      "1600/1600 [==============================] - 0s 262us/step - loss: 0.0082 - acc: 1.0000 - val_loss: 0.4128 - val_acc: 0.8875\n",
      "Epoch 44/100\n",
      "1600/1600 [==============================] - 0s 267us/step - loss: 0.0076 - acc: 1.0000 - val_loss: 0.4096 - val_acc: 0.9000\n",
      "Epoch 45/100\n",
      "1600/1600 [==============================] - 0s 280us/step - loss: 0.0076 - acc: 1.0000 - val_loss: 0.4150 - val_acc: 0.8950\n",
      "Epoch 46/100\n",
      "1600/1600 [==============================] - 0s 288us/step - loss: 0.0073 - acc: 1.0000 - val_loss: 0.4205 - val_acc: 0.8900\n",
      "Epoch 47/100\n",
      "1600/1600 [==============================] - 0s 198us/step - loss: 0.0065 - acc: 1.0000 - val_loss: 0.4315 - val_acc: 0.9000\n",
      "Epoch 48/100\n",
      "1600/1600 [==============================] - 0s 196us/step - loss: 0.0069 - acc: 1.0000 - val_loss: 0.4228 - val_acc: 0.8975\n",
      "Epoch 49/100\n",
      "1600/1600 [==============================] - 0s 185us/step - loss: 0.0063 - acc: 1.0000 - val_loss: 0.4183 - val_acc: 0.8925\n",
      "Epoch 50/100\n",
      "1600/1600 [==============================] - 0s 188us/step - loss: 0.0063 - acc: 1.0000 - val_loss: 0.4265 - val_acc: 0.9000\n",
      "Epoch 51/100\n",
      "1600/1600 [==============================] - 0s 193us/step - loss: 0.0059 - acc: 1.0000 - val_loss: 0.4308 - val_acc: 0.8950\n",
      "Epoch 52/100\n",
      "1600/1600 [==============================] - 0s 185us/step - loss: 0.0059 - acc: 1.0000 - val_loss: 0.4325 - val_acc: 0.8975\n",
      "Epoch 53/100\n",
      "1600/1600 [==============================] - 0s 226us/step - loss: 0.0057 - acc: 1.0000 - val_loss: 0.4266 - val_acc: 0.8925\n",
      "Epoch 54/100\n",
      "1600/1600 [==============================] - 0s 220us/step - loss: 0.0055 - acc: 1.0000 - val_loss: 0.4561 - val_acc: 0.9025\n",
      "Epoch 55/100\n",
      "1600/1600 [==============================] - 0s 227us/step - loss: 0.0054 - acc: 1.0000 - val_loss: 0.4368 - val_acc: 0.8950\n",
      "Epoch 56/100\n",
      "1600/1600 [==============================] - 0s 234us/step - loss: 0.0053 - acc: 1.0000 - val_loss: 0.4573 - val_acc: 0.8950\n",
      "Epoch 57/100\n",
      "1600/1600 [==============================] - 0s 226us/step - loss: 0.0051 - acc: 1.0000 - val_loss: 0.4505 - val_acc: 0.8950\n",
      "Epoch 58/100\n",
      "1600/1600 [==============================] - 0s 187us/step - loss: 0.0050 - acc: 1.0000 - val_loss: 0.4484 - val_acc: 0.9000\n",
      "Epoch 59/100\n",
      "1600/1600 [==============================] - 0s 184us/step - loss: 0.0047 - acc: 1.0000 - val_loss: 0.4507 - val_acc: 0.8950\n",
      "Epoch 60/100\n"
     ]
    },
    {
     "name": "stdout",
     "output_type": "stream",
     "text": [
      "1600/1600 [==============================] - 0s 195us/step - loss: 0.0046 - acc: 1.0000 - val_loss: 0.4531 - val_acc: 0.8975\n",
      "Epoch 61/100\n",
      "1600/1600 [==============================] - 0s 185us/step - loss: 0.0045 - acc: 1.0000 - val_loss: 0.4575 - val_acc: 0.8950\n",
      "Epoch 62/100\n",
      "1600/1600 [==============================] - 0s 185us/step - loss: 0.0042 - acc: 1.0000 - val_loss: 0.4572 - val_acc: 0.9000\n",
      "Epoch 63/100\n",
      "1600/1600 [==============================] - 0s 192us/step - loss: 0.0041 - acc: 1.0000 - val_loss: 0.4628 - val_acc: 0.9000\n",
      "Epoch 64/100\n",
      "1600/1600 [==============================] - 0s 184us/step - loss: 0.0039 - acc: 1.0000 - val_loss: 0.4638 - val_acc: 0.8925\n",
      "Epoch 65/100\n",
      "1600/1600 [==============================] - 0s 184us/step - loss: 0.0039 - acc: 1.0000 - val_loss: 0.4693 - val_acc: 0.9000\n",
      "Epoch 66/100\n",
      "1600/1600 [==============================] - 0s 186us/step - loss: 0.0036 - acc: 1.0000 - val_loss: 0.4684 - val_acc: 0.9000\n",
      "Epoch 67/100\n",
      "1600/1600 [==============================] - 0s 195us/step - loss: 0.0036 - acc: 1.0000 - val_loss: 0.4666 - val_acc: 0.8900\n",
      "Epoch 68/100\n",
      "1600/1600 [==============================] - 0s 211us/step - loss: 0.0036 - acc: 1.0000 - val_loss: 0.4765 - val_acc: 0.9000\n",
      "Epoch 69/100\n",
      "1600/1600 [==============================] - 0s 194us/step - loss: 0.0035 - acc: 1.0000 - val_loss: 0.4810 - val_acc: 0.8950\n",
      "Epoch 70/100\n",
      "1600/1600 [==============================] - 0s 193us/step - loss: 0.0033 - acc: 1.0000 - val_loss: 0.4740 - val_acc: 0.9000\n",
      "Epoch 71/100\n",
      "1600/1600 [==============================] - 0s 190us/step - loss: 0.0032 - acc: 1.0000 - val_loss: 0.4704 - val_acc: 0.8900\n",
      "Epoch 72/100\n",
      "1600/1600 [==============================] - 0s 253us/step - loss: 0.0033 - acc: 1.0000 - val_loss: 0.5013 - val_acc: 0.8975\n",
      "Epoch 73/100\n",
      "1600/1600 [==============================] - 0s 270us/step - loss: 0.0030 - acc: 1.0000 - val_loss: 0.4871 - val_acc: 0.8975\n",
      "Epoch 74/100\n",
      "1600/1600 [==============================] - 0s 271us/step - loss: 0.0029 - acc: 1.0000 - val_loss: 0.4957 - val_acc: 0.9050\n",
      "Epoch 75/100\n",
      "1600/1600 [==============================] - 0s 281us/step - loss: 0.0029 - acc: 1.0000 - val_loss: 0.4909 - val_acc: 0.9025\n",
      "Epoch 76/100\n",
      "1600/1600 [==============================] - 0s 246us/step - loss: 0.0026 - acc: 1.0000 - val_loss: 0.4982 - val_acc: 0.9000\n",
      "Epoch 77/100\n",
      "1600/1600 [==============================] - 0s 183us/step - loss: 0.0025 - acc: 1.0000 - val_loss: 0.5018 - val_acc: 0.9050\n",
      "Epoch 78/100\n",
      "1600/1600 [==============================] - 0s 199us/step - loss: 0.0024 - acc: 1.0000 - val_loss: 0.5052 - val_acc: 0.9025\n",
      "Epoch 79/100\n",
      "1600/1600 [==============================] - 0s 185us/step - loss: 0.0025 - acc: 1.0000 - val_loss: 0.4983 - val_acc: 0.9075\n",
      "Epoch 80/100\n",
      "1600/1600 [==============================] - 0s 183us/step - loss: 0.0026 - acc: 1.0000 - val_loss: 0.5130 - val_acc: 0.8975\n",
      "Epoch 81/100\n",
      "1600/1600 [==============================] - 0s 208us/step - loss: 0.0025 - acc: 1.0000 - val_loss: 0.5060 - val_acc: 0.9000\n",
      "Epoch 82/100\n",
      "1600/1600 [==============================] - 0s 265us/step - loss: 0.0023 - acc: 1.0000 - val_loss: 0.5144 - val_acc: 0.9000\n",
      "Epoch 83/100\n",
      "1600/1600 [==============================] - 0s 202us/step - loss: 0.0021 - acc: 1.0000 - val_loss: 0.5237 - val_acc: 0.9075\n",
      "Epoch 84/100\n",
      "1600/1600 [==============================] - 0s 193us/step - loss: 0.0021 - acc: 1.0000 - val_loss: 0.4962 - val_acc: 0.9000\n",
      "Epoch 85/100\n",
      "1600/1600 [==============================] - 0s 269us/step - loss: 0.0020 - acc: 1.0000 - val_loss: 0.5180 - val_acc: 0.9000\n",
      "Epoch 86/100\n",
      "1600/1600 [==============================] - 0s 211us/step - loss: 0.0020 - acc: 1.0000 - val_loss: 0.5135 - val_acc: 0.9050\n",
      "Epoch 87/100\n",
      "1600/1600 [==============================] - 0s 248us/step - loss: 0.0019 - acc: 1.0000 - val_loss: 0.5202 - val_acc: 0.9025\n",
      "Epoch 88/100\n",
      "1600/1600 [==============================] - 0s 192us/step - loss: 0.0018 - acc: 1.0000 - val_loss: 0.5222 - val_acc: 0.9050\n",
      "Epoch 89/100\n",
      "1600/1600 [==============================] - 0s 188us/step - loss: 0.0017 - acc: 1.0000 - val_loss: 0.5331 - val_acc: 0.9025\n",
      "Epoch 90/100\n",
      "1600/1600 [==============================] - 0s 185us/step - loss: 0.0017 - acc: 1.0000 - val_loss: 0.5295 - val_acc: 0.9100\n",
      "Epoch 91/100\n",
      "1600/1600 [==============================] - 0s 184us/step - loss: 0.0018 - acc: 1.0000 - val_loss: 0.5240 - val_acc: 0.9025\n",
      "Epoch 92/100\n",
      "1600/1600 [==============================] - 0s 184us/step - loss: 0.0016 - acc: 1.0000 - val_loss: 0.5324 - val_acc: 0.9075\n",
      "Epoch 93/100\n",
      "1600/1600 [==============================] - 0s 188us/step - loss: 0.0016 - acc: 1.0000 - val_loss: 0.5267 - val_acc: 0.9025\n",
      "Epoch 94/100\n",
      "1600/1600 [==============================] - 0s 183us/step - loss: 0.0015 - acc: 1.0000 - val_loss: 0.5269 - val_acc: 0.9000\n",
      "Epoch 95/100\n",
      "1600/1600 [==============================] - 0s 185us/step - loss: 0.0015 - acc: 1.0000 - val_loss: 0.5404 - val_acc: 0.9100\n",
      "Epoch 96/100\n",
      "1600/1600 [==============================] - 0s 189us/step - loss: 0.0014 - acc: 1.0000 - val_loss: 0.5464 - val_acc: 0.9025\n",
      "Epoch 97/100\n",
      "1600/1600 [==============================] - 0s 183us/step - loss: 0.0014 - acc: 1.0000 - val_loss: 0.5509 - val_acc: 0.9100\n",
      "Epoch 98/100\n",
      "1600/1600 [==============================] - 0s 184us/step - loss: 0.0013 - acc: 1.0000 - val_loss: 0.5505 - val_acc: 0.9050\n",
      "Epoch 99/100\n",
      "1600/1600 [==============================] - 0s 194us/step - loss: 0.0013 - acc: 1.0000 - val_loss: 0.5457 - val_acc: 0.9025\n",
      "Epoch 100/100\n",
      "1600/1600 [==============================] - 0s 185us/step - loss: 0.0012 - acc: 1.0000 - val_loss: 0.5504 - val_acc: 0.9125\n"
     ]
    }
   ],
   "source": [
    "histoy=model.fit(X_train,y_train,validation_data=(X_test,y_test),epochs=100)"
   ]
  },
  {
   "cell_type": "code",
   "execution_count": 28,
   "metadata": {},
   "outputs": [
    {
     "data": {
      "image/png": "[encoded data removed]",
      "text/plain": [
       "<Figure size 432x288 with 1 Axes>"
      ]
     },
     "metadata": {
      "needs_background": "light"
     },
     "output_type": "display_data"
    }
   ],
   "source": [
    "plt.plot(histoy.history['acc'])\n",
    "plt.plot(histoy.history['val_acc'])\n",
    "plt.xlabel('epchos')\n",
    "plt.ylabel('accuracy')\n",
    "plt.title('Accuracy score')\n",
    "plt.legend(['train','test'],loc='upper_left')\n",
    "plt.show()"
   ]
  },
  {
   "cell_type": "code",
   "execution_count": null,
   "metadata": {},
   "outputs": [],
   "source": []
  },
  {
   "cell_type": "code",
   "execution_count": 25,
   "metadata": {},
   "outputs": [
    {
     "data": {
      "text/plain": [
       "Text(0.5, 1.0, 'loss')"
      ]
     },
     "execution_count": 25,
     "metadata": {},
     "output_type": "execute_result"
    },
    {
     "data": {
      "image/png": "[encoded data removed]",
      "text/plain": [
       "<Figure size 432x288 with 1 Axes>"
      ]
     },
     "metadata": {
      "needs_background": "light"
     },
     "output_type": "display_data"
    }
   ],
   "source": [
    "plt.plot(histoy.history['loss'])\n",
    "plt.plot(histoy.history['val_loss'])\n",
    "plt.legend(['train','test'])\n",
    "plt.title('loss')"
   ]
  },
  {
   "cell_type": "code",
   "execution_count": null,
   "metadata": {},
   "outputs": [],
   "source": []
  }
 ],
 "metadata": {
  "kernelspec": {
   "display_name": "Python 3",
   "language": "python",
   "name": "python3"
  },
  "language_info": {
   "codemirror_mode": {
    "name": "ipython",
    "version": 3
   },
   "file_extension": ".py",
   "mimetype": "text/x-python",
   "name": "python",
   "nbconvert_exporter": "python",
   "pygments_lexer": "ipython3",
   "version": "3.7.3"
  }
 },
 "nbformat": 4,
 "nbformat_minor": 2
}
