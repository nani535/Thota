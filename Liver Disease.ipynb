{
 "cells": [
  {
   "cell_type": "code",
   "execution_count": 1,
   "metadata": {},
   "outputs": [],
   "source": [
    "import pandas as pd\n",
    "import numpy as np\n",
    "import matplotlib.pyplot as plt\n",
    "import seaborn as sns\n",
    "import warnings\n",
    "warnings.filterwarnings('ignore')"
   ]
  },
  {
   "cell_type": "code",
   "execution_count": 2,
   "metadata": {},
   "outputs": [],
   "source": [
    "data=pd.read_csv(r\"F:\\data sets\\HCC.csv\")"
   ]
  },
  {
   "cell_type": "code",
   "execution_count": 3,
   "metadata": {},
   "outputs": [
    {
     "data": {
      "text/html": [
       "<div>\n",
       "<style scoped>\n",
       "    .dataframe tbody tr th:only-of-type {\n",
       "        vertical-align: middle;\n",
       "    }\n",
       "\n",
       "    .dataframe tbody tr th {\n",
       "        vertical-align: top;\n",
       "    }\n",
       "\n",
       "    .dataframe thead th {\n",
       "        text-align: right;\n",
       "    }\n",
       "</style>\n",
       "<table border=\"1\" class=\"dataframe\">\n",
       "  <thead>\n",
       "    <tr style=\"text-align: right;\">\n",
       "      <th></th>\n",
       "      <th>Gender</th>\n",
       "      <th>Symptoms</th>\n",
       "      <th>Alcohol</th>\n",
       "      <th>Hepatitis B Surface Antigen</th>\n",
       "      <th>Hepatitis B e Antigen</th>\n",
       "      <th>Hepatitis B Core Antibody</th>\n",
       "      <th>Hepatitis C Virus Antibody</th>\n",
       "      <th>Cirrhosis</th>\n",
       "      <th>Endemic Countries</th>\n",
       "      <th>Smoking</th>\n",
       "      <th>...</th>\n",
       "      <th>Alkaline phosphatase (U/L)</th>\n",
       "      <th>Total Proteins (g/dL)</th>\n",
       "      <th>Creatinine (mg/dL)</th>\n",
       "      <th>Number of Nodules</th>\n",
       "      <th>Major dimension of nodule (cm)</th>\n",
       "      <th>Direct Bilirubin (mg/dL)</th>\n",
       "      <th>Iron (mcg/dL)</th>\n",
       "      <th>Oxygen Saturation (%)</th>\n",
       "      <th>Ferritin</th>\n",
       "      <th>Class</th>\n",
       "    </tr>\n",
       "  </thead>\n",
       "  <tbody>\n",
       "    <tr>\n",
       "      <th>0</th>\n",
       "      <td>1</td>\n",
       "      <td>0</td>\n",
       "      <td>1</td>\n",
       "      <td>0</td>\n",
       "      <td>0</td>\n",
       "      <td>0</td>\n",
       "      <td>0</td>\n",
       "      <td>1</td>\n",
       "      <td>0</td>\n",
       "      <td>1</td>\n",
       "      <td>...</td>\n",
       "      <td>150.0</td>\n",
       "      <td>7.1</td>\n",
       "      <td>0.70</td>\n",
       "      <td>1</td>\n",
       "      <td>3.5</td>\n",
       "      <td>0.50</td>\n",
       "      <td>86.0</td>\n",
       "      <td>37.0</td>\n",
       "      <td>435.0</td>\n",
       "      <td>1</td>\n",
       "    </tr>\n",
       "    <tr>\n",
       "      <th>1</th>\n",
       "      <td>0</td>\n",
       "      <td>1</td>\n",
       "      <td>0</td>\n",
       "      <td>0</td>\n",
       "      <td>0</td>\n",
       "      <td>0</td>\n",
       "      <td>1</td>\n",
       "      <td>1</td>\n",
       "      <td>0</td>\n",
       "      <td>1</td>\n",
       "      <td>...</td>\n",
       "      <td>215.0</td>\n",
       "      <td>8.7</td>\n",
       "      <td>2.95</td>\n",
       "      <td>1</td>\n",
       "      <td>1.8</td>\n",
       "      <td>1.96</td>\n",
       "      <td>86.0</td>\n",
       "      <td>37.0</td>\n",
       "      <td>435.0</td>\n",
       "      <td>1</td>\n",
       "    </tr>\n",
       "    <tr>\n",
       "      <th>2</th>\n",
       "      <td>1</td>\n",
       "      <td>0</td>\n",
       "      <td>1</td>\n",
       "      <td>1</td>\n",
       "      <td>0</td>\n",
       "      <td>1</td>\n",
       "      <td>0</td>\n",
       "      <td>1</td>\n",
       "      <td>0</td>\n",
       "      <td>1</td>\n",
       "      <td>...</td>\n",
       "      <td>109.0</td>\n",
       "      <td>7.0</td>\n",
       "      <td>2.10</td>\n",
       "      <td>5</td>\n",
       "      <td>13.0</td>\n",
       "      <td>0.10</td>\n",
       "      <td>28.0</td>\n",
       "      <td>6.0</td>\n",
       "      <td>16.0</td>\n",
       "      <td>1</td>\n",
       "    </tr>\n",
       "    <tr>\n",
       "      <th>3</th>\n",
       "      <td>1</td>\n",
       "      <td>1</td>\n",
       "      <td>1</td>\n",
       "      <td>0</td>\n",
       "      <td>0</td>\n",
       "      <td>0</td>\n",
       "      <td>0</td>\n",
       "      <td>1</td>\n",
       "      <td>0</td>\n",
       "      <td>1</td>\n",
       "      <td>...</td>\n",
       "      <td>174.0</td>\n",
       "      <td>8.1</td>\n",
       "      <td>1.11</td>\n",
       "      <td>2</td>\n",
       "      <td>15.7</td>\n",
       "      <td>0.20</td>\n",
       "      <td>86.0</td>\n",
       "      <td>37.0</td>\n",
       "      <td>435.0</td>\n",
       "      <td>0</td>\n",
       "    </tr>\n",
       "    <tr>\n",
       "      <th>4</th>\n",
       "      <td>1</td>\n",
       "      <td>1</td>\n",
       "      <td>1</td>\n",
       "      <td>1</td>\n",
       "      <td>0</td>\n",
       "      <td>1</td>\n",
       "      <td>0</td>\n",
       "      <td>1</td>\n",
       "      <td>0</td>\n",
       "      <td>1</td>\n",
       "      <td>...</td>\n",
       "      <td>109.0</td>\n",
       "      <td>6.9</td>\n",
       "      <td>1.80</td>\n",
       "      <td>1</td>\n",
       "      <td>9.0</td>\n",
       "      <td>1.96</td>\n",
       "      <td>59.0</td>\n",
       "      <td>15.0</td>\n",
       "      <td>22.0</td>\n",
       "      <td>1</td>\n",
       "    </tr>\n",
       "  </tbody>\n",
       "</table>\n",
       "<p>5 rows × 50 columns</p>\n",
       "</div>"
      ],
      "text/plain": [
       "   Gender  Symptoms  Alcohol  Hepatitis B Surface Antigen  \\\n",
       "0       1         0        1                            0   \n",
       "1       0         1        0                            0   \n",
       "2       1         0        1                            1   \n",
       "3       1         1        1                            0   \n",
       "4       1         1        1                            1   \n",
       "\n",
       "   Hepatitis B e Antigen  Hepatitis B Core Antibody  \\\n",
       "0                      0                          0   \n",
       "1                      0                          0   \n",
       "2                      0                          1   \n",
       "3                      0                          0   \n",
       "4                      0                          1   \n",
       "\n",
       "   Hepatitis C Virus Antibody  Cirrhosis  Endemic Countries  Smoking  ...  \\\n",
       "0                           0          1                  0        1  ...   \n",
       "1                           1          1                  0        1  ...   \n",
       "2                           0          1                  0        1  ...   \n",
       "3                           0          1                  0        1  ...   \n",
       "4                           0          1                  0        1  ...   \n",
       "\n",
       "   Alkaline phosphatase (U/L)  Total Proteins (g/dL)  Creatinine (mg/dL)  \\\n",
       "0                       150.0                    7.1                0.70   \n",
       "1                       215.0                    8.7                2.95   \n",
       "2                       109.0                    7.0                2.10   \n",
       "3                       174.0                    8.1                1.11   \n",
       "4                       109.0                    6.9                1.80   \n",
       "\n",
       "   Number of Nodules  Major dimension of nodule (cm)  \\\n",
       "0                  1                             3.5   \n",
       "1                  1                             1.8   \n",
       "2                  5                            13.0   \n",
       "3                  2                            15.7   \n",
       "4                  1                             9.0   \n",
       "\n",
       "   Direct Bilirubin (mg/dL)  Iron (mcg/dL)  Oxygen Saturation (%)  Ferritin  \\\n",
       "0                      0.50           86.0                   37.0     435.0   \n",
       "1                      1.96           86.0                   37.0     435.0   \n",
       "2                      0.10           28.0                    6.0      16.0   \n",
       "3                      0.20           86.0                   37.0     435.0   \n",
       "4                      1.96           59.0                   15.0      22.0   \n",
       "\n",
       "   Class  \n",
       "0      1  \n",
       "1      1  \n",
       "2      1  \n",
       "3      0  \n",
       "4      1  \n",
       "\n",
       "[5 rows x 50 columns]"
      ]
     },
     "execution_count": 3,
     "metadata": {},
     "output_type": "execute_result"
    }
   ],
   "source": [
    "data.head()"
   ]
  },
  {
   "cell_type": "code",
   "execution_count": 4,
   "metadata": {},
   "outputs": [
    {
     "data": {
      "text/plain": [
       "(131, 50)"
      ]
     },
     "execution_count": 4,
     "metadata": {},
     "output_type": "execute_result"
    }
   ],
   "source": [
    "data.shape"
   ]
  },
  {
   "cell_type": "code",
   "execution_count": 5,
   "metadata": {},
   "outputs": [
    {
     "name": "stdout",
     "output_type": "stream",
     "text": [
      "<class 'pandas.core.frame.DataFrame'>\n",
      "RangeIndex: 131 entries, 0 to 130\n",
      "Data columns (total 50 columns):\n",
      "Gender                              131 non-null int64\n",
      "Symptoms                            131 non-null int64\n",
      "Alcohol                             131 non-null int64\n",
      "Hepatitis B Surface Antigen         131 non-null int64\n",
      "Hepatitis B e Antigen               131 non-null int64\n",
      "Hepatitis B Core Antibody           131 non-null int64\n",
      "Hepatitis C Virus Antibody          131 non-null int64\n",
      "Cirrhosis                           131 non-null int64\n",
      "Endemic Countries                   131 non-null int64\n",
      "Smoking                             131 non-null int64\n",
      "Diabetes                            131 non-null int64\n",
      "Obesity                             131 non-null int64\n",
      "Hemochromatosis                     131 non-null int64\n",
      "Arterial Hypertension               131 non-null int64\n",
      "Chronic Renal Insufficiency         131 non-null int64\n",
      "Human Immunodeficiency Virus        131 non-null int64\n",
      "Nonalcoholic Steatohepatitis        131 non-null int64\n",
      "Esophageal Varices                  131 non-null int64\n",
      "Splenomegaly                        131 non-null int64\n",
      "Portal Hypertension                 131 non-null int64\n",
      "Portal Vein Thrombosis              131 non-null int64\n",
      "Liver Metastasis                    131 non-null int64\n",
      "Radiological Hallmark               131 non-null int64\n",
      "Age at diagnosis                    131 non-null int64\n",
      "Grams of Alcohol per day            131 non-null int64\n",
      "Packs of cigarets per year:         131 non-null float64\n",
      "Performance Status                  131 non-null int64\n",
      "Encefalopathy degree                131 non-null int64\n",
      "Ascites degree                      131 non-null int64\n",
      "International Normalised Ratio:     131 non-null float64\n",
      "Alpha-Fetoprotein (ng/mL)           131 non-null float64\n",
      "Haemoglobin (g/dL)                  131 non-null float64\n",
      "Mean Corpuscular Volume (fl)        131 non-null float64\n",
      "Leukocytes(G/L)                     131 non-null float64\n",
      "Platelets (G/L)                     131 non-null float64\n",
      "Albumin (mg/dL)                     131 non-null float64\n",
      "Total Bilirubin(mg/dL)              131 non-null float64\n",
      "Alanine transaminase (U/L)          131 non-null float64\n",
      "Aspartate transaminase (U/L)        131 non-null int64\n",
      "Gamma glutamyl transferase (U/L)    131 non-null float64\n",
      "Alkaline phosphatase (U/L)          131 non-null float64\n",
      "Total Proteins (g/dL)               131 non-null float64\n",
      "Creatinine (mg/dL)                  131 non-null float64\n",
      "Number of Nodules                   131 non-null int64\n",
      "Major dimension of nodule (cm)      131 non-null float64\n",
      "Direct Bilirubin (mg/dL)            131 non-null float64\n",
      "Iron (mcg/dL)                       131 non-null float64\n",
      "Oxygen Saturation (%)               131 non-null float64\n",
      "Ferritin                            131 non-null float64\n",
      "Class                               131 non-null int64\n",
      "dtypes: float64(19), int64(31)\n",
      "memory usage: 51.2 KB\n"
     ]
    }
   ],
   "source": [
    "data.info()"
   ]
  },
  {
   "cell_type": "code",
   "execution_count": 6,
   "metadata": {},
   "outputs": [
    {
     "data": {
      "text/plain": [
       "Gender                              0\n",
       "Symptoms                            0\n",
       "Alcohol                             0\n",
       "Hepatitis B Surface Antigen         0\n",
       "Hepatitis B e Antigen               0\n",
       "Hepatitis B Core Antibody           0\n",
       "Hepatitis C Virus Antibody          0\n",
       "Cirrhosis                           0\n",
       "Endemic Countries                   0\n",
       "Smoking                             0\n",
       "Diabetes                            0\n",
       "Obesity                             0\n",
       "Hemochromatosis                     0\n",
       "Arterial Hypertension               0\n",
       "Chronic Renal Insufficiency         0\n",
       "Human Immunodeficiency Virus        0\n",
       "Nonalcoholic Steatohepatitis        0\n",
       "Esophageal Varices                  0\n",
       "Splenomegaly                        0\n",
       "Portal Hypertension                 0\n",
       "Portal Vein Thrombosis              0\n",
       "Liver Metastasis                    0\n",
       "Radiological Hallmark               0\n",
       "Age at diagnosis                    0\n",
       "Grams of Alcohol per day            0\n",
       "Packs of cigarets per year:         0\n",
       "Performance Status                  0\n",
       "Encefalopathy degree                0\n",
       "Ascites degree                      0\n",
       "International Normalised Ratio:     0\n",
       "Alpha-Fetoprotein (ng/mL)           0\n",
       "Haemoglobin (g/dL)                  0\n",
       "Mean Corpuscular Volume (fl)        0\n",
       "Leukocytes(G/L)                     0\n",
       "Platelets (G/L)                     0\n",
       "Albumin (mg/dL)                     0\n",
       "Total Bilirubin(mg/dL)              0\n",
       "Alanine transaminase (U/L)          0\n",
       "Aspartate transaminase (U/L)        0\n",
       "Gamma glutamyl transferase (U/L)    0\n",
       "Alkaline phosphatase (U/L)          0\n",
       "Total Proteins (g/dL)               0\n",
       "Creatinine (mg/dL)                  0\n",
       "Number of Nodules                   0\n",
       "Major dimension of nodule (cm)      0\n",
       "Direct Bilirubin (mg/dL)            0\n",
       "Iron (mcg/dL)                       0\n",
       "Oxygen Saturation (%)               0\n",
       "Ferritin                            0\n",
       "Class                               0\n",
       "dtype: int64"
      ]
     },
     "execution_count": 6,
     "metadata": {},
     "output_type": "execute_result"
    }
   ],
   "source": [
    "np.sum(data.isnull()) # no missing values"
   ]
  },
  {
   "cell_type": "code",
   "execution_count": 7,
   "metadata": {},
   "outputs": [
    {
     "data": {
      "text/plain": [
       "0      False\n",
       "1      False\n",
       "2      False\n",
       "3      False\n",
       "4      False\n",
       "5      False\n",
       "6      False\n",
       "7      False\n",
       "8      False\n",
       "9      False\n",
       "10     False\n",
       "11     False\n",
       "12     False\n",
       "13     False\n",
       "14     False\n",
       "15     False\n",
       "16     False\n",
       "17     False\n",
       "18     False\n",
       "19     False\n",
       "20     False\n",
       "21     False\n",
       "22     False\n",
       "23     False\n",
       "24     False\n",
       "25     False\n",
       "26     False\n",
       "27     False\n",
       "28     False\n",
       "29     False\n",
       "       ...  \n",
       "101    False\n",
       "102    False\n",
       "103    False\n",
       "104    False\n",
       "105    False\n",
       "106    False\n",
       "107    False\n",
       "108    False\n",
       "109    False\n",
       "110    False\n",
       "111    False\n",
       "112    False\n",
       "113    False\n",
       "114    False\n",
       "115    False\n",
       "116    False\n",
       "117    False\n",
       "118    False\n",
       "119    False\n",
       "120    False\n",
       "121    False\n",
       "122    False\n",
       "123    False\n",
       "124    False\n",
       "125    False\n",
       "126    False\n",
       "127    False\n",
       "128    False\n",
       "129    False\n",
       "130    False\n",
       "Length: 131, dtype: bool"
      ]
     },
     "execution_count": 7,
     "metadata": {},
     "output_type": "execute_result"
    }
   ],
   "source": [
    "data.duplicated()"
   ]
  },
  {
   "cell_type": "code",
   "execution_count": 8,
   "metadata": {},
   "outputs": [
    {
     "data": {
      "text/html": [
       "<div>\n",
       "<style scoped>\n",
       "    .dataframe tbody tr th:only-of-type {\n",
       "        vertical-align: middle;\n",
       "    }\n",
       "\n",
       "    .dataframe tbody tr th {\n",
       "        vertical-align: top;\n",
       "    }\n",
       "\n",
       "    .dataframe thead th {\n",
       "        text-align: right;\n",
       "    }\n",
       "</style>\n",
       "<table border=\"1\" class=\"dataframe\">\n",
       "  <thead>\n",
       "    <tr style=\"text-align: right;\">\n",
       "      <th></th>\n",
       "      <th>Gender</th>\n",
       "      <th>Symptoms</th>\n",
       "      <th>Alcohol</th>\n",
       "      <th>Hepatitis B Surface Antigen</th>\n",
       "      <th>Hepatitis B e Antigen</th>\n",
       "      <th>Hepatitis B Core Antibody</th>\n",
       "      <th>Hepatitis C Virus Antibody</th>\n",
       "      <th>Cirrhosis</th>\n",
       "      <th>Endemic Countries</th>\n",
       "      <th>Smoking</th>\n",
       "      <th>...</th>\n",
       "      <th>Alkaline phosphatase (U/L)</th>\n",
       "      <th>Total Proteins (g/dL)</th>\n",
       "      <th>Creatinine (mg/dL)</th>\n",
       "      <th>Number of Nodules</th>\n",
       "      <th>Major dimension of nodule (cm)</th>\n",
       "      <th>Direct Bilirubin (mg/dL)</th>\n",
       "      <th>Iron (mcg/dL)</th>\n",
       "      <th>Oxygen Saturation (%)</th>\n",
       "      <th>Ferritin</th>\n",
       "      <th>Class</th>\n",
       "    </tr>\n",
       "  </thead>\n",
       "  <tbody>\n",
       "    <tr>\n",
       "      <th>count</th>\n",
       "      <td>131.000000</td>\n",
       "      <td>131.000000</td>\n",
       "      <td>131.000000</td>\n",
       "      <td>131.000000</td>\n",
       "      <td>131.000000</td>\n",
       "      <td>131.000000</td>\n",
       "      <td>131.000000</td>\n",
       "      <td>131.000000</td>\n",
       "      <td>131.000000</td>\n",
       "      <td>131.000000</td>\n",
       "      <td>...</td>\n",
       "      <td>131.000000</td>\n",
       "      <td>131.000000</td>\n",
       "      <td>131.000000</td>\n",
       "      <td>131.000000</td>\n",
       "      <td>131.000000</td>\n",
       "      <td>131.000000</td>\n",
       "      <td>131.000000</td>\n",
       "      <td>131.000000</td>\n",
       "      <td>131.000000</td>\n",
       "      <td>131.000000</td>\n",
       "    </tr>\n",
       "    <tr>\n",
       "      <th>mean</th>\n",
       "      <td>0.877863</td>\n",
       "      <td>0.679389</td>\n",
       "      <td>0.786260</td>\n",
       "      <td>0.106870</td>\n",
       "      <td>0.007634</td>\n",
       "      <td>0.229008</td>\n",
       "      <td>0.190840</td>\n",
       "      <td>0.916031</td>\n",
       "      <td>0.061069</td>\n",
       "      <td>0.648855</td>\n",
       "      <td>...</td>\n",
       "      <td>215.109008</td>\n",
       "      <td>8.690840</td>\n",
       "      <td>1.194504</td>\n",
       "      <td>2.717557</td>\n",
       "      <td>6.855725</td>\n",
       "      <td>1.962595</td>\n",
       "      <td>85.835878</td>\n",
       "      <td>36.950076</td>\n",
       "      <td>434.815267</td>\n",
       "      <td>0.610687</td>\n",
       "    </tr>\n",
       "    <tr>\n",
       "      <th>std</th>\n",
       "      <td>0.328701</td>\n",
       "      <td>0.468503</td>\n",
       "      <td>0.411519</td>\n",
       "      <td>0.310134</td>\n",
       "      <td>0.087370</td>\n",
       "      <td>0.421807</td>\n",
       "      <td>0.394471</td>\n",
       "      <td>0.278407</td>\n",
       "      <td>0.240376</td>\n",
       "      <td>0.479161</td>\n",
       "      <td>...</td>\n",
       "      <td>172.948696</td>\n",
       "      <td>9.707558</td>\n",
       "      <td>0.979605</td>\n",
       "      <td>1.794328</td>\n",
       "      <td>4.730131</td>\n",
       "      <td>3.688189</td>\n",
       "      <td>43.154948</td>\n",
       "      <td>22.103834</td>\n",
       "      <td>340.691495</td>\n",
       "      <td>0.489466</td>\n",
       "    </tr>\n",
       "    <tr>\n",
       "      <th>min</th>\n",
       "      <td>0.000000</td>\n",
       "      <td>0.000000</td>\n",
       "      <td>0.000000</td>\n",
       "      <td>0.000000</td>\n",
       "      <td>0.000000</td>\n",
       "      <td>0.000000</td>\n",
       "      <td>0.000000</td>\n",
       "      <td>0.000000</td>\n",
       "      <td>0.000000</td>\n",
       "      <td>0.000000</td>\n",
       "      <td>...</td>\n",
       "      <td>1.280000</td>\n",
       "      <td>3.900000</td>\n",
       "      <td>0.200000</td>\n",
       "      <td>0.000000</td>\n",
       "      <td>1.500000</td>\n",
       "      <td>0.100000</td>\n",
       "      <td>0.000000</td>\n",
       "      <td>0.000000</td>\n",
       "      <td>0.000000</td>\n",
       "      <td>0.000000</td>\n",
       "    </tr>\n",
       "    <tr>\n",
       "      <th>25%</th>\n",
       "      <td>1.000000</td>\n",
       "      <td>0.000000</td>\n",
       "      <td>1.000000</td>\n",
       "      <td>0.000000</td>\n",
       "      <td>0.000000</td>\n",
       "      <td>0.000000</td>\n",
       "      <td>0.000000</td>\n",
       "      <td>1.000000</td>\n",
       "      <td>0.000000</td>\n",
       "      <td>0.000000</td>\n",
       "      <td>...</td>\n",
       "      <td>109.500000</td>\n",
       "      <td>6.300000</td>\n",
       "      <td>0.705000</td>\n",
       "      <td>1.000000</td>\n",
       "      <td>3.250000</td>\n",
       "      <td>0.500000</td>\n",
       "      <td>60.000000</td>\n",
       "      <td>25.000000</td>\n",
       "      <td>266.500000</td>\n",
       "      <td>0.000000</td>\n",
       "    </tr>\n",
       "    <tr>\n",
       "      <th>50%</th>\n",
       "      <td>1.000000</td>\n",
       "      <td>1.000000</td>\n",
       "      <td>1.000000</td>\n",
       "      <td>0.000000</td>\n",
       "      <td>0.000000</td>\n",
       "      <td>0.000000</td>\n",
       "      <td>0.000000</td>\n",
       "      <td>1.000000</td>\n",
       "      <td>0.000000</td>\n",
       "      <td>1.000000</td>\n",
       "      <td>...</td>\n",
       "      <td>165.000000</td>\n",
       "      <td>7.100000</td>\n",
       "      <td>0.860000</td>\n",
       "      <td>2.000000</td>\n",
       "      <td>6.000000</td>\n",
       "      <td>1.200000</td>\n",
       "      <td>86.000000</td>\n",
       "      <td>37.000000</td>\n",
       "      <td>435.000000</td>\n",
       "      <td>1.000000</td>\n",
       "    </tr>\n",
       "    <tr>\n",
       "      <th>75%</th>\n",
       "      <td>1.000000</td>\n",
       "      <td>1.000000</td>\n",
       "      <td>1.000000</td>\n",
       "      <td>0.000000</td>\n",
       "      <td>0.000000</td>\n",
       "      <td>0.000000</td>\n",
       "      <td>0.000000</td>\n",
       "      <td>1.000000</td>\n",
       "      <td>0.000000</td>\n",
       "      <td>1.000000</td>\n",
       "      <td>...</td>\n",
       "      <td>241.500000</td>\n",
       "      <td>7.750000</td>\n",
       "      <td>1.200000</td>\n",
       "      <td>5.000000</td>\n",
       "      <td>8.300000</td>\n",
       "      <td>1.960000</td>\n",
       "      <td>90.000000</td>\n",
       "      <td>37.000000</td>\n",
       "      <td>435.000000</td>\n",
       "      <td>1.000000</td>\n",
       "    </tr>\n",
       "    <tr>\n",
       "      <th>max</th>\n",
       "      <td>1.000000</td>\n",
       "      <td>1.000000</td>\n",
       "      <td>1.000000</td>\n",
       "      <td>1.000000</td>\n",
       "      <td>1.000000</td>\n",
       "      <td>1.000000</td>\n",
       "      <td>1.000000</td>\n",
       "      <td>1.000000</td>\n",
       "      <td>1.000000</td>\n",
       "      <td>1.000000</td>\n",
       "      <td>...</td>\n",
       "      <td>980.000000</td>\n",
       "      <td>78.000000</td>\n",
       "      <td>7.600000</td>\n",
       "      <td>5.000000</td>\n",
       "      <td>22.000000</td>\n",
       "      <td>29.300000</td>\n",
       "      <td>224.000000</td>\n",
       "      <td>126.000000</td>\n",
       "      <td>2230.000000</td>\n",
       "      <td>1.000000</td>\n",
       "    </tr>\n",
       "  </tbody>\n",
       "</table>\n",
       "<p>8 rows × 50 columns</p>\n",
       "</div>"
      ],
      "text/plain": [
       "           Gender    Symptoms     Alcohol  Hepatitis B Surface Antigen  \\\n",
       "count  131.000000  131.000000  131.000000                   131.000000   \n",
       "mean     0.877863    0.679389    0.786260                     0.106870   \n",
       "std      0.328701    0.468503    0.411519                     0.310134   \n",
       "min      0.000000    0.000000    0.000000                     0.000000   \n",
       "25%      1.000000    0.000000    1.000000                     0.000000   \n",
       "50%      1.000000    1.000000    1.000000                     0.000000   \n",
       "75%      1.000000    1.000000    1.000000                     0.000000   \n",
       "max      1.000000    1.000000    1.000000                     1.000000   \n",
       "\n",
       "       Hepatitis B e Antigen  Hepatitis B Core Antibody  \\\n",
       "count             131.000000                 131.000000   \n",
       "mean                0.007634                   0.229008   \n",
       "std                 0.087370                   0.421807   \n",
       "min                 0.000000                   0.000000   \n",
       "25%                 0.000000                   0.000000   \n",
       "50%                 0.000000                   0.000000   \n",
       "75%                 0.000000                   0.000000   \n",
       "max                 1.000000                   1.000000   \n",
       "\n",
       "       Hepatitis C Virus Antibody   Cirrhosis  Endemic Countries     Smoking  \\\n",
       "count                  131.000000  131.000000         131.000000  131.000000   \n",
       "mean                     0.190840    0.916031           0.061069    0.648855   \n",
       "std                      0.394471    0.278407           0.240376    0.479161   \n",
       "min                      0.000000    0.000000           0.000000    0.000000   \n",
       "25%                      0.000000    1.000000           0.000000    0.000000   \n",
       "50%                      0.000000    1.000000           0.000000    1.000000   \n",
       "75%                      0.000000    1.000000           0.000000    1.000000   \n",
       "max                      1.000000    1.000000           1.000000    1.000000   \n",
       "\n",
       "       ...  Alkaline phosphatase (U/L)  Total Proteins (g/dL)  \\\n",
       "count  ...                  131.000000             131.000000   \n",
       "mean   ...                  215.109008               8.690840   \n",
       "std    ...                  172.948696               9.707558   \n",
       "min    ...                    1.280000               3.900000   \n",
       "25%    ...                  109.500000               6.300000   \n",
       "50%    ...                  165.000000               7.100000   \n",
       "75%    ...                  241.500000               7.750000   \n",
       "max    ...                  980.000000              78.000000   \n",
       "\n",
       "       Creatinine (mg/dL)  Number of Nodules  Major dimension of nodule (cm)  \\\n",
       "count          131.000000         131.000000                      131.000000   \n",
       "mean             1.194504           2.717557                        6.855725   \n",
       "std              0.979605           1.794328                        4.730131   \n",
       "min              0.200000           0.000000                        1.500000   \n",
       "25%              0.705000           1.000000                        3.250000   \n",
       "50%              0.860000           2.000000                        6.000000   \n",
       "75%              1.200000           5.000000                        8.300000   \n",
       "max              7.600000           5.000000                       22.000000   \n",
       "\n",
       "       Direct Bilirubin (mg/dL)  Iron (mcg/dL)  Oxygen Saturation (%)  \\\n",
       "count                131.000000     131.000000             131.000000   \n",
       "mean                   1.962595      85.835878              36.950076   \n",
       "std                    3.688189      43.154948              22.103834   \n",
       "min                    0.100000       0.000000               0.000000   \n",
       "25%                    0.500000      60.000000              25.000000   \n",
       "50%                    1.200000      86.000000              37.000000   \n",
       "75%                    1.960000      90.000000              37.000000   \n",
       "max                   29.300000     224.000000             126.000000   \n",
       "\n",
       "          Ferritin       Class  \n",
       "count   131.000000  131.000000  \n",
       "mean    434.815267    0.610687  \n",
       "std     340.691495    0.489466  \n",
       "min       0.000000    0.000000  \n",
       "25%     266.500000    0.000000  \n",
       "50%     435.000000    1.000000  \n",
       "75%     435.000000    1.000000  \n",
       "max    2230.000000    1.000000  \n",
       "\n",
       "[8 rows x 50 columns]"
      ]
     },
     "execution_count": 8,
     "metadata": {},
     "output_type": "execute_result"
    }
   ],
   "source": [
    "data.describe()"
   ]
  },
  {
   "cell_type": "code",
   "execution_count": 11,
   "metadata": {},
   "outputs": [
    {
     "data": {
      "text/plain": [
       "<matplotlib.axes._subplots.AxesSubplot at 0x262a02f96d8>"
      ]
     },
     "execution_count": 11,
     "metadata": {},
     "output_type": "execute_result"
    },
    {
     "data": {
      "image/png": "[encoded data removed]",
      "text/plain": [
       "<Figure size 1440x360 with 1 Axes>"
      ]
     },
     "metadata": {
      "needs_background": "light"
     },
     "output_type": "display_data"
    }
   ],
   "source": [
    "plt.figure(figsize=(20,5))\n",
    "sns.countplot(x='Albumin (mg/dL)',data=data,hue='Class')"
   ]
  },
  {
   "cell_type": "code",
   "execution_count": 12,
   "metadata": {},
   "outputs": [
    {
     "data": {
      "text/plain": [
       "<matplotlib.axes._subplots.AxesSubplot at 0x262a032d198>"
      ]
     },
     "execution_count": 12,
     "metadata": {},
     "output_type": "execute_result"
    },
    {
     "data": {
      "image/png": "[encoded data removed]",
      "text/plain": [
       "<Figure size 1440x360 with 1 Axes>"
      ]
     },
     "metadata": {
      "needs_background": "light"
     },
     "output_type": "display_data"
    }
   ],
   "source": [
    "plt.figure(figsize=(20,5))\n",
    "sns.countplot(x='Total Bilirubin(mg/dL)',data=data,hue='Class')"
   ]
  },
  {
   "cell_type": "code",
   "execution_count": 13,
   "metadata": {},
   "outputs": [
    {
     "data": {
      "text/plain": [
       "<matplotlib.axes._subplots.AxesSubplot at 0x262a0486048>"
      ]
     },
     "execution_count": 13,
     "metadata": {},
     "output_type": "execute_result"
    },
    {
     "data": {
      "image/png": "[encoded data removed]",
      "text/plain": [
       "<Figure size 2160x576 with 1 Axes>"
      ]
     },
     "metadata": {
      "needs_background": "light"
     },
     "output_type": "display_data"
    }
   ],
   "source": [
    "plt.figure(figsize=(30,8))\n",
    "sns.countplot(x='Alanine transaminase (U/L)',data=data,hue='Class')"
   ]
  },
  {
   "cell_type": "code",
   "execution_count": 14,
   "metadata": {},
   "outputs": [
    {
     "data": {
      "text/plain": [
       "<matplotlib.axes._subplots.AxesSubplot at 0x262a1945f98>"
      ]
     },
     "execution_count": 14,
     "metadata": {},
     "output_type": "execute_result"
    },
    {
     "data": {
      "image/png": "[encoded data removed]",
      "text/plain": [
       "<Figure size 1440x360 with 1 Axes>"
      ]
     },
     "metadata": {
      "needs_background": "light"
     },
     "output_type": "display_data"
    }
   ],
   "source": [
    "plt.figure(figsize=(20,5))\n",
    "sns.countplot(x='Aspartate transaminase (U/L)',data=data,hue='Class')"
   ]
  },
  {
   "cell_type": "code",
   "execution_count": 15,
   "metadata": {},
   "outputs": [
    {
     "data": {
      "text/plain": [
       "<matplotlib.axes._subplots.AxesSubplot at 0x262a228aba8>"
      ]
     },
     "execution_count": 15,
     "metadata": {},
     "output_type": "execute_result"
    },
    {
     "data": {
      "image/png": "[encoded data removed]",
      "text/plain": [
       "<Figure size 1440x360 with 1 Axes>"
      ]
     },
     "metadata": {
      "needs_background": "light"
     },
     "output_type": "display_data"
    }
   ],
   "source": [
    "plt.figure(figsize=(20,5))\n",
    "sns.countplot(x='Gamma glutamyl transferase (U/L)',data=data,hue='Class')"
   ]
  },
  {
   "cell_type": "code",
   "execution_count": 16,
   "metadata": {},
   "outputs": [
    {
     "data": {
      "text/plain": [
       "<matplotlib.axes._subplots.AxesSubplot at 0x262a2193320>"
      ]
     },
     "execution_count": 16,
     "metadata": {},
     "output_type": "execute_result"
    },
    {
     "data": {
      "image/png": "[encoded data removed]",
      "text/plain": [
       "<Figure size 1440x360 with 1 Axes>"
      ]
     },
     "metadata": {
      "needs_background": "light"
     },
     "output_type": "display_data"
    }
   ],
   "source": [
    "plt.figure(figsize=(20,5))\n",
    "sns.countplot(x='Alkaline phosphatase (U/L)',data=data,hue='Class')"
   ]
  },
  {
   "cell_type": "code",
   "execution_count": 17,
   "metadata": {},
   "outputs": [
    {
     "data": {
      "text/plain": [
       "<matplotlib.axes._subplots.AxesSubplot at 0x262a2db3320>"
      ]
     },
     "execution_count": 17,
     "metadata": {},
     "output_type": "execute_result"
    },
    {
     "data": {
      "image/png": "[encoded data removed]",
      "text/plain": [
       "<Figure size 1440x360 with 1 Axes>"
      ]
     },
     "metadata": {
      "needs_background": "light"
     },
     "output_type": "display_data"
    }
   ],
   "source": [
    "plt.figure(figsize=(20,5))\n",
    "sns.countplot(x='Total Proteins (g/dL)',data=data,hue='Class')"
   ]
  },
  {
   "cell_type": "code",
   "execution_count": 18,
   "metadata": {},
   "outputs": [
    {
     "data": {
      "text/plain": [
       "<matplotlib.axes._subplots.AxesSubplot at 0x262a2efbbe0>"
      ]
     },
     "execution_count": 18,
     "metadata": {},
     "output_type": "execute_result"
    },
    {
     "data": {
      "image/png": "[encoded data removed]",
      "text/plain": [
       "<Figure size 1440x360 with 1 Axes>"
      ]
     },
     "metadata": {
      "needs_background": "light"
     },
     "output_type": "display_data"
    }
   ],
   "source": [
    "plt.figure(figsize=(20,5))\n",
    "sns.countplot(x='Creatinine (mg/dL)',data=data,hue='Class')"
   ]
  },
  {
   "cell_type": "code",
   "execution_count": 19,
   "metadata": {},
   "outputs": [
    {
     "data": {
      "text/plain": [
       "<matplotlib.axes._subplots.AxesSubplot at 0x262a32c8940>"
      ]
     },
     "execution_count": 19,
     "metadata": {},
     "output_type": "execute_result"
    },
    {
     "data": {
      "image/png": "[encoded data removed]",
      "text/plain": [
       "<Figure size 1440x360 with 1 Axes>"
      ]
     },
     "metadata": {
      "needs_background": "light"
     },
     "output_type": "display_data"
    }
   ],
   "source": [
    "plt.figure(figsize=(20,5))\n",
    "sns.countplot(x='Alpha-Fetoprotein (ng/mL)',data=data,hue='Class')"
   ]
  },
  {
   "cell_type": "code",
   "execution_count": 20,
   "metadata": {},
   "outputs": [
    {
     "data": {
      "text/plain": [
       "<matplotlib.axes._subplots.AxesSubplot at 0x262a370ef28>"
      ]
     },
     "execution_count": 20,
     "metadata": {},
     "output_type": "execute_result"
    },
    {
     "data": {
      "image/png": "[encoded data removed]",
      "text/plain": [
       "<Figure size 1440x360 with 1 Axes>"
      ]
     },
     "metadata": {
      "needs_background": "light"
     },
     "output_type": "display_data"
    }
   ],
   "source": [
    "plt.figure(figsize=(20,5))\n",
    "sns.countplot(x='Packs of cigarets per year:',data=data,hue='Gender')\n",
    "#Packs of cigarettes per year: between genders"
   ]
  },
  {
   "cell_type": "code",
   "execution_count": 21,
   "metadata": {},
   "outputs": [
    {
     "data": {
      "text/plain": [
       "<matplotlib.axes._subplots.AxesSubplot at 0x262a3a4dc50>"
      ]
     },
     "execution_count": 21,
     "metadata": {},
     "output_type": "execute_result"
    },
    {
     "data": {
      "image/png": "[encoded data removed]",
      "text/plain": [
       "<Figure size 432x288 with 1 Axes>"
      ]
     },
     "metadata": {
      "needs_background": "light"
     },
     "output_type": "display_data"
    }
   ],
   "source": [
    "sns.countplot(x='Hepatitis B Surface Antigen',data=data,hue='Class')"
   ]
  },
  {
   "cell_type": "code",
   "execution_count": 22,
   "metadata": {},
   "outputs": [
    {
     "data": {
      "text/plain": [
       "<matplotlib.axes._subplots.AxesSubplot at 0x262a3ab5a58>"
      ]
     },
     "execution_count": 22,
     "metadata": {},
     "output_type": "execute_result"
    },
    {
     "data": {
      "image/png": "[encoded data removed]",
      "text/plain": [
       "<Figure size 432x288 with 1 Axes>"
      ]
     },
     "metadata": {
      "needs_background": "light"
     },
     "output_type": "display_data"
    }
   ],
   "source": [
    "sns.countplot(x='Hepatitis B e Antigen',data=data,hue='Class')"
   ]
  },
  {
   "cell_type": "code",
   "execution_count": 23,
   "metadata": {},
   "outputs": [
    {
     "data": {
      "text/plain": [
       "<matplotlib.axes._subplots.AxesSubplot at 0x262a02d2518>"
      ]
     },
     "execution_count": 23,
     "metadata": {},
     "output_type": "execute_result"
    },
    {
     "data": {
      "image/png": "[encoded data removed]",
      "text/plain": [
       "<Figure size 432x288 with 1 Axes>"
      ]
     },
     "metadata": {
      "needs_background": "light"
     },
     "output_type": "display_data"
    }
   ],
   "source": [
    "sns.countplot(x='Hepatitis B Core Antibody',data=data,hue='Class')"
   ]
  },
  {
   "cell_type": "code",
   "execution_count": 24,
   "metadata": {},
   "outputs": [
    {
     "data": {
      "text/plain": [
       "<matplotlib.axes._subplots.AxesSubplot at 0x262a3b71cc0>"
      ]
     },
     "execution_count": 24,
     "metadata": {},
     "output_type": "execute_result"
    },
    {
     "data": {
      "image/png": "[encoded data removed]",
      "text/plain": [
       "<Figure size 432x288 with 1 Axes>"
      ]
     },
     "metadata": {
      "needs_background": "light"
     },
     "output_type": "display_data"
    }
   ],
   "source": [
    "sns.countplot(x='Hepatitis C Virus Antibody',data=data,hue='Class')"
   ]
  },
  {
   "cell_type": "code",
   "execution_count": 25,
   "metadata": {},
   "outputs": [
    {
     "data": {
      "text/plain": [
       "<matplotlib.axes._subplots.AxesSubplot at 0x262a3bce4e0>"
      ]
     },
     "execution_count": 25,
     "metadata": {},
     "output_type": "execute_result"
    },
    {
     "data": {
      "image/png": "[encoded data removed]",
      "text/plain": [
       "<Figure size 432x288 with 1 Axes>"
      ]
     },
     "metadata": {
      "needs_background": "light"
     },
     "output_type": "display_data"
    }
   ],
   "source": [
    "sns.countplot(x='Cirrhosis',data=data,hue='Class')\n",
    "#last stage of liver disease  more chances to die"
   ]
  },
  {
   "cell_type": "code",
   "execution_count": 26,
   "metadata": {},
   "outputs": [],
   "source": [
    "features=data.iloc[:,:-1]\n",
    "label=data.iloc[:,[-1]].values"
   ]
  },
  {
   "cell_type": "code",
   "execution_count": 27,
   "metadata": {},
   "outputs": [
    {
     "data": {
      "text/plain": [
       "Index(['Gender', 'Symptoms', 'Alcohol', 'Hepatitis B Surface Antigen',\n",
       "       'Hepatitis B e Antigen', 'Hepatitis B Core Antibody',\n",
       "       'Hepatitis C Virus Antibody', 'Cirrhosis', 'Endemic Countries',\n",
       "       'Smoking', 'Diabetes', 'Obesity', 'Hemochromatosis',\n",
       "       'Arterial Hypertension', 'Chronic Renal Insufficiency',\n",
       "       'Human Immunodeficiency Virus', 'Nonalcoholic Steatohepatitis',\n",
       "       'Esophageal Varices', 'Splenomegaly', 'Portal Hypertension',\n",
       "       'Portal Vein Thrombosis', 'Liver Metastasis', 'Radiological Hallmark',\n",
       "       'Age at diagnosis', 'Grams of Alcohol per day',\n",
       "       'Packs of cigarets per year:', 'Performance Status',\n",
       "       'Encefalopathy degree', 'Ascites degree',\n",
       "       'International Normalised Ratio:', 'Alpha-Fetoprotein (ng/mL)',\n",
       "       'Haemoglobin (g/dL)', 'Mean Corpuscular Volume (fl)', 'Leukocytes(G/L)',\n",
       "       'Platelets (G/L)', 'Albumin (mg/dL)', 'Total Bilirubin(mg/dL)',\n",
       "       'Alanine transaminase (U/L)', 'Aspartate transaminase (U/L)',\n",
       "       'Gamma glutamyl transferase (U/L)', 'Alkaline phosphatase (U/L)',\n",
       "       'Total Proteins (g/dL)', 'Creatinine (mg/dL)', 'Number of Nodules',\n",
       "       'Major dimension of nodule (cm)', 'Direct Bilirubin (mg/dL)',\n",
       "       'Iron (mcg/dL)', 'Oxygen Saturation (%)', 'Ferritin'],\n",
       "      dtype='object')"
      ]
     },
     "execution_count": 27,
     "metadata": {},
     "output_type": "execute_result"
    }
   ],
   "source": [
    "features.columns"
   ]
  },
  {
   "cell_type": "code",
   "execution_count": 28,
   "metadata": {
    "scrolled": true
   },
   "outputs": [],
   "source": [
    "data1=pd.get_dummies(features['Performance Status'],prefix='performance_')"
   ]
  },
  {
   "cell_type": "code",
   "execution_count": null,
   "metadata": {},
   "outputs": [],
   "source": []
  },
  {
   "cell_type": "code",
   "execution_count": 29,
   "metadata": {},
   "outputs": [],
   "source": [
    "data2=pd.get_dummies(features['Encefalopathy degree'],prefix='Encefalapathy_')"
   ]
  },
  {
   "cell_type": "code",
   "execution_count": 30,
   "metadata": {},
   "outputs": [],
   "source": [
    "data3=pd.get_dummies(features['Ascites degree'],prefix='Ascites_')"
   ]
  },
  {
   "cell_type": "code",
   "execution_count": 31,
   "metadata": {},
   "outputs": [],
   "source": [
    "features.drop(['Encefalopathy degree','Ascites degree','Performance Status'],inplace=True,axis=1)"
   ]
  },
  {
   "cell_type": "code",
   "execution_count": 32,
   "metadata": {},
   "outputs": [],
   "source": [
    "x=data1.join(data2)"
   ]
  },
  {
   "cell_type": "code",
   "execution_count": 33,
   "metadata": {},
   "outputs": [],
   "source": [
    "HCC=x.join(data3)"
   ]
  },
  {
   "cell_type": "code",
   "execution_count": 34,
   "metadata": {},
   "outputs": [],
   "source": [
    "features1=features.join(HCC)"
   ]
  },
  {
   "cell_type": "code",
   "execution_count": 35,
   "metadata": {},
   "outputs": [
    {
     "data": {
      "text/plain": [
       "(131, 57)"
      ]
     },
     "execution_count": 35,
     "metadata": {},
     "output_type": "execute_result"
    }
   ],
   "source": [
    "features1.shape"
   ]
  },
  {
   "cell_type": "markdown",
   "metadata": {},
   "source": [
    "# Logistic regression"
   ]
  },
  {
   "cell_type": "code",
   "execution_count": 36,
   "metadata": {},
   "outputs": [],
   "source": [
    "from sklearn.linear_model import LogisticRegressionCV\n",
    "model=LogisticRegressionCV()"
   ]
  },
  {
   "cell_type": "code",
   "execution_count": 37,
   "metadata": {},
   "outputs": [
    {
     "name": "stdout",
     "output_type": "stream",
     "text": [
      "[False False False False False False False False False False False False\n",
      " False False False False False False False False False False False  True\n",
      " False  True False False  True  True False False False  True  True  True\n",
      " False False  True False False  True  True  True  True False False False\n",
      " False False False False False False False False False]\n"
     ]
    }
   ],
   "source": [
    "from sklearn.feature_selection import SelectFromModel\n",
    "selectfeaturs=SelectFromModel(model)\n",
    "selectfeaturs.fit(features1,label)\n",
    "print(selectfeaturs.get_support())"
   ]
  },
  {
   "cell_type": "code",
   "execution_count": 38,
   "metadata": {
    "scrolled": true
   },
   "outputs": [
    {
     "name": "stdout",
     "output_type": "stream",
     "text": [
      "<class 'pandas.core.frame.DataFrame'>\n",
      "RangeIndex: 131 entries, 0 to 130\n",
      "Data columns (total 57 columns):\n",
      "Gender                              131 non-null int64\n",
      "Symptoms                            131 non-null int64\n",
      "Alcohol                             131 non-null int64\n",
      "Hepatitis B Surface Antigen         131 non-null int64\n",
      "Hepatitis B e Antigen               131 non-null int64\n",
      "Hepatitis B Core Antibody           131 non-null int64\n",
      "Hepatitis C Virus Antibody          131 non-null int64\n",
      "Cirrhosis                           131 non-null int64\n",
      "Endemic Countries                   131 non-null int64\n",
      "Smoking                             131 non-null int64\n",
      "Diabetes                            131 non-null int64\n",
      "Obesity                             131 non-null int64\n",
      "Hemochromatosis                     131 non-null int64\n",
      "Arterial Hypertension               131 non-null int64\n",
      "Chronic Renal Insufficiency         131 non-null int64\n",
      "Human Immunodeficiency Virus        131 non-null int64\n",
      "Nonalcoholic Steatohepatitis        131 non-null int64\n",
      "Esophageal Varices                  131 non-null int64\n",
      "Splenomegaly                        131 non-null int64\n",
      "Portal Hypertension                 131 non-null int64\n",
      "Portal Vein Thrombosis              131 non-null int64\n",
      "Liver Metastasis                    131 non-null int64\n",
      "Radiological Hallmark               131 non-null int64\n",
      "Age at diagnosis                    131 non-null int64\n",
      "Grams of Alcohol per day            131 non-null int64\n",
      "Packs of cigarets per year:         131 non-null float64\n",
      "International Normalised Ratio:     131 non-null float64\n",
      "Alpha-Fetoprotein (ng/mL)           131 non-null float64\n",
      "Haemoglobin (g/dL)                  131 non-null float64\n",
      "Mean Corpuscular Volume (fl)        131 non-null float64\n",
      "Leukocytes(G/L)                     131 non-null float64\n",
      "Platelets (G/L)                     131 non-null float64\n",
      "Albumin (mg/dL)                     131 non-null float64\n",
      "Total Bilirubin(mg/dL)              131 non-null float64\n",
      "Alanine transaminase (U/L)          131 non-null float64\n",
      "Aspartate transaminase (U/L)        131 non-null int64\n",
      "Gamma glutamyl transferase (U/L)    131 non-null float64\n",
      "Alkaline phosphatase (U/L)          131 non-null float64\n",
      "Total Proteins (g/dL)               131 non-null float64\n",
      "Creatinine (mg/dL)                  131 non-null float64\n",
      "Number of Nodules                   131 non-null int64\n",
      "Major dimension of nodule (cm)      131 non-null float64\n",
      "Direct Bilirubin (mg/dL)            131 non-null float64\n",
      "Iron (mcg/dL)                       131 non-null float64\n",
      "Oxygen Saturation (%)               131 non-null float64\n",
      "Ferritin                            131 non-null float64\n",
      "performance__0                      131 non-null uint8\n",
      "performance__1                      131 non-null uint8\n",
      "performance__2                      131 non-null uint8\n",
      "performance__3                      131 non-null uint8\n",
      "performance__4                      131 non-null uint8\n",
      "Encefalapathy__1                    131 non-null uint8\n",
      "Encefalapathy__2                    131 non-null uint8\n",
      "Encefalapathy__3                    131 non-null uint8\n",
      "Ascites__1                          131 non-null uint8\n",
      "Ascites__2                          131 non-null uint8\n",
      "Ascites__3                          131 non-null uint8\n",
      "dtypes: float64(19), int64(27), uint8(11)\n",
      "memory usage: 48.6 KB\n"
     ]
    }
   ],
   "source": [
    "features1.info()"
   ]
  },
  {
   "cell_type": "code",
   "execution_count": 39,
   "metadata": {},
   "outputs": [],
   "source": [
    "#final_features=['23,25'28,29.33.34.35,38,41,42,43,44,]"
   ]
  },
  {
   "cell_type": "code",
   "execution_count": 40,
   "metadata": {},
   "outputs": [
    {
     "name": "stdout",
     "output_type": "stream",
     "text": [
      "23\n",
      "25\n",
      "28\n",
      "33\n",
      "34\n",
      "35\n",
      "38\n",
      "42\n",
      "43\n",
      "41\n",
      "44\n"
     ]
    }
   ],
   "source": [
    "print(features1.columns.get_loc('Age at diagnosis'))\n",
    "print(features1.columns.get_loc('Packs of cigarets per year:'))\n",
    "print(features1.columns.get_loc('Haemoglobin (g/dL)'))\n",
    "print(features1.columns.get_loc('Total Bilirubin(mg/dL)'))\n",
    "print(features1.columns.get_loc('Alanine transaminase (U/L)'))\n",
    "print(features1.columns.get_loc('Aspartate transaminase (U/L)'))\n",
    "print(features1.columns.get_loc('Total Proteins (g/dL)'))\n",
    "print(features1.columns.get_loc('Direct Bilirubin (mg/dL)'))\n",
    "print(features1.columns.get_loc('Iron (mcg/dL)'))\n",
    "print(features1.columns.get_loc('Major dimension of nodule (cm)'))\n",
    "print(features1.columns.get_loc('Oxygen Saturation (%)'))"
   ]
  },
  {
   "cell_type": "code",
   "execution_count": null,
   "metadata": {},
   "outputs": [],
   "source": []
  },
  {
   "cell_type": "code",
   "execution_count": 41,
   "metadata": {},
   "outputs": [],
   "source": [
    "final_features=features1[['Age at diagnosis','Packs of cigarets per year:','Haemoglobin (g/dL)','Total Bilirubin(mg/dL)','Alanine transaminase (U/L)',\n",
    "               'Aspartate transaminase (U/L)','Total Proteins (g/dL)','Direct Bilirubin (mg/dL)','Iron (mcg/dL)','Major dimension of nodule (cm)',\n",
    "               'Oxygen Saturation (%)']]"
   ]
  },
  {
   "cell_type": "code",
   "execution_count": 42,
   "metadata": {},
   "outputs": [
    {
     "data": {
      "text/html": [
       "<div>\n",
       "<style scoped>\n",
       "    .dataframe tbody tr th:only-of-type {\n",
       "        vertical-align: middle;\n",
       "    }\n",
       "\n",
       "    .dataframe tbody tr th {\n",
       "        vertical-align: top;\n",
       "    }\n",
       "\n",
       "    .dataframe thead th {\n",
       "        text-align: right;\n",
       "    }\n",
       "</style>\n",
       "<table border=\"1\" class=\"dataframe\">\n",
       "  <thead>\n",
       "    <tr style=\"text-align: right;\">\n",
       "      <th></th>\n",
       "      <th>Age at diagnosis</th>\n",
       "      <th>Packs of cigarets per year:</th>\n",
       "      <th>Haemoglobin (g/dL)</th>\n",
       "      <th>Total Bilirubin(mg/dL)</th>\n",
       "      <th>Alanine transaminase (U/L)</th>\n",
       "      <th>Aspartate transaminase (U/L)</th>\n",
       "      <th>Total Proteins (g/dL)</th>\n",
       "      <th>Direct Bilirubin (mg/dL)</th>\n",
       "      <th>Iron (mcg/dL)</th>\n",
       "      <th>Major dimension of nodule (cm)</th>\n",
       "      <th>Oxygen Saturation (%)</th>\n",
       "    </tr>\n",
       "  </thead>\n",
       "  <tbody>\n",
       "    <tr>\n",
       "      <th>0</th>\n",
       "      <td>67</td>\n",
       "      <td>15.0</td>\n",
       "      <td>13.70</td>\n",
       "      <td>2.10</td>\n",
       "      <td>34.00</td>\n",
       "      <td>41</td>\n",
       "      <td>7.1</td>\n",
       "      <td>0.50</td>\n",
       "      <td>86.0</td>\n",
       "      <td>3.5</td>\n",
       "      <td>37.0</td>\n",
       "    </tr>\n",
       "    <tr>\n",
       "      <th>1</th>\n",
       "      <td>62</td>\n",
       "      <td>23.0</td>\n",
       "      <td>12.79</td>\n",
       "      <td>3.24</td>\n",
       "      <td>69.22</td>\n",
       "      <td>101</td>\n",
       "      <td>8.7</td>\n",
       "      <td>1.96</td>\n",
       "      <td>86.0</td>\n",
       "      <td>1.8</td>\n",
       "      <td>37.0</td>\n",
       "    </tr>\n",
       "    <tr>\n",
       "      <th>2</th>\n",
       "      <td>78</td>\n",
       "      <td>50.0</td>\n",
       "      <td>8.90</td>\n",
       "      <td>0.40</td>\n",
       "      <td>58.00</td>\n",
       "      <td>68</td>\n",
       "      <td>7.0</td>\n",
       "      <td>0.10</td>\n",
       "      <td>28.0</td>\n",
       "      <td>13.0</td>\n",
       "      <td>6.0</td>\n",
       "    </tr>\n",
       "    <tr>\n",
       "      <th>3</th>\n",
       "      <td>77</td>\n",
       "      <td>30.0</td>\n",
       "      <td>13.40</td>\n",
       "      <td>0.40</td>\n",
       "      <td>16.00</td>\n",
       "      <td>64</td>\n",
       "      <td>8.1</td>\n",
       "      <td>0.20</td>\n",
       "      <td>86.0</td>\n",
       "      <td>15.7</td>\n",
       "      <td>37.0</td>\n",
       "    </tr>\n",
       "    <tr>\n",
       "      <th>4</th>\n",
       "      <td>76</td>\n",
       "      <td>30.0</td>\n",
       "      <td>14.30</td>\n",
       "      <td>0.70</td>\n",
       "      <td>147.00</td>\n",
       "      <td>306</td>\n",
       "      <td>6.9</td>\n",
       "      <td>1.96</td>\n",
       "      <td>59.0</td>\n",
       "      <td>9.0</td>\n",
       "      <td>15.0</td>\n",
       "    </tr>\n",
       "  </tbody>\n",
       "</table>\n",
       "</div>"
      ],
      "text/plain": [
       "   Age at diagnosis  Packs of cigarets per year:  Haemoglobin (g/dL)  \\\n",
       "0                67                         15.0               13.70   \n",
       "1                62                         23.0               12.79   \n",
       "2                78                         50.0                8.90   \n",
       "3                77                         30.0               13.40   \n",
       "4                76                         30.0               14.30   \n",
       "\n",
       "   Total Bilirubin(mg/dL)  Alanine transaminase (U/L)  \\\n",
       "0                    2.10                       34.00   \n",
       "1                    3.24                       69.22   \n",
       "2                    0.40                       58.00   \n",
       "3                    0.40                       16.00   \n",
       "4                    0.70                      147.00   \n",
       "\n",
       "   Aspartate transaminase (U/L)  Total Proteins (g/dL)  \\\n",
       "0                            41                    7.1   \n",
       "1                           101                    8.7   \n",
       "2                            68                    7.0   \n",
       "3                            64                    8.1   \n",
       "4                           306                    6.9   \n",
       "\n",
       "   Direct Bilirubin (mg/dL)  Iron (mcg/dL)  Major dimension of nodule (cm)  \\\n",
       "0                      0.50           86.0                             3.5   \n",
       "1                      1.96           86.0                             1.8   \n",
       "2                      0.10           28.0                            13.0   \n",
       "3                      0.20           86.0                            15.7   \n",
       "4                      1.96           59.0                             9.0   \n",
       "\n",
       "   Oxygen Saturation (%)  \n",
       "0                   37.0  \n",
       "1                   37.0  \n",
       "2                    6.0  \n",
       "3                   37.0  \n",
       "4                   15.0  "
      ]
     },
     "execution_count": 42,
     "metadata": {},
     "output_type": "execute_result"
    }
   ],
   "source": [
    "final_features.head()"
   ]
  },
  {
   "cell_type": "code",
   "execution_count": 43,
   "metadata": {},
   "outputs": [
    {
     "data": {
      "text/plain": [
       "array([[ 67.  ,  15.  ,  13.7 , ...,  86.  ,   3.5 ,  37.  ],\n",
       "       [ 62.  ,  23.  ,  12.79, ...,  86.  ,   1.8 ,  37.  ],\n",
       "       [ 78.  ,  50.  ,   8.9 , ...,  28.  ,  13.  ,   6.  ],\n",
       "       ...,\n",
       "       [ 72.  , 510.  ,  12.6 , ...,  28.  ,   4.3 ,  10.  ],\n",
       "       [ 77.  ,   0.  ,  11.6 , ...,  86.  ,   5.8 ,  37.  ],\n",
       "       [ 75.  ,   0.  ,  14.9 , ...,  86.  ,  17.5 ,  37.  ]])"
      ]
     },
     "execution_count": 43,
     "metadata": {},
     "output_type": "execute_result"
    }
   ],
   "source": [
    "final_features.values"
   ]
  },
  {
   "cell_type": "markdown",
   "metadata": {},
   "source": [
    "# scalling"
   ]
  },
  {
   "cell_type": "code",
   "execution_count": 44,
   "metadata": {},
   "outputs": [
    {
     "data": {
      "text/plain": [
       "array([[ 1.13811826e-01, -1.73246302e-01,  3.83056101e-01, ...,\n",
       "         3.81768891e-03, -7.12159355e-01,  2.26726774e-03],\n",
       "       [-2.84833875e-01, -2.12271623e-03, -4.64408686e-02, ...,\n",
       "         3.81768891e-03, -1.07293708e+00,  2.26726774e-03],\n",
       "       [ 9.90832370e-01,  5.75419385e-01, -1.88242242e+00, ...,\n",
       "        -1.34533582e+00,  1.30395147e+00, -1.40558813e+00],\n",
       "       ...,\n",
       "       [ 5.12457528e-01,  1.04150256e+01, -1.36116060e-01, ...,\n",
       "        -1.34533582e+00, -5.42381602e-01, -1.22392937e+00],\n",
       "       [ 9.11103230e-01, -4.94103025e-01, -6.08090752e-01, ...,\n",
       "         3.81768891e-03, -2.24048314e-01,  2.26726774e-03],\n",
       "       [ 7.51644949e-01, -4.94103025e-01,  9.49425732e-01, ...,\n",
       "         3.81768891e-03,  2.25895133e+00,  2.26726774e-03]])"
      ]
     },
     "execution_count": 44,
     "metadata": {},
     "output_type": "execute_result"
    }
   ],
   "source": [
    "from sklearn.preprocessing import StandardScaler\n",
    "scaler=StandardScaler()\n",
    "scaler.fit_transform(final_features)\n",
    "\n",
    "from sklearn.model_selection import train_test_split\n",
    "X_train,X_test,y_train,y_test=train_test_split(final_features,label,test_size=0.2,random_state=94)"
   ]
  },
  {
   "cell_type": "code",
   "execution_count": 46,
   "metadata": {},
   "outputs": [
    {
     "name": "stdout",
     "output_type": "stream",
     "text": [
      "LogisticRegressionCV(Cs=10, class_weight=None, cv='warn', dual=False,\n",
      "           fit_intercept=True, intercept_scaling=1.0, max_iter=100,\n",
      "           multi_class='warn', n_jobs=None, penalty='l2',\n",
      "           random_state=None, refit=True, scoring=None, solver='lbfgs',\n",
      "           tol=0.0001, verbose=0)\n"
     ]
    }
   ],
   "source": [
    "print(model.fit(X_train,y_train))"
   ]
  },
  {
   "cell_type": "code",
   "execution_count": 47,
   "metadata": {},
   "outputs": [
    {
     "name": "stdout",
     "output_type": "stream",
     "text": [
      "0.7788461538461539\n",
      "0.9259259259259259\n"
     ]
    }
   ],
   "source": [
    "print(model.score(X_train,y_train))\n",
    "print(model.score(X_test,y_test))"
   ]
  },
  {
   "cell_type": "code",
   "execution_count": 48,
   "metadata": {},
   "outputs": [
    {
     "data": {
      "text/plain": [
       "LogisticRegressionCV(Cs=10, class_weight=None, cv='warn', dual=False,\n",
       "           fit_intercept=True, intercept_scaling=1.0, max_iter=100,\n",
       "           multi_class='warn', n_jobs=None, penalty='l2',\n",
       "           random_state=None, refit=True, scoring=None, solver='lbfgs',\n",
       "           tol=0.0001, verbose=0)"
      ]
     },
     "execution_count": 48,
     "metadata": {},
     "output_type": "execute_result"
    }
   ],
   "source": [
    "from sklearn.linear_model import LogisticRegressionCV\n",
    "loistic=LogisticRegressionCV()\n",
    "loistic.fit(X_train,y_train)"
   ]
  },
  {
   "cell_type": "code",
   "execution_count": 49,
   "metadata": {},
   "outputs": [
    {
     "name": "stdout",
     "output_type": "stream",
     "text": [
      "0.7788461538461539\n",
      "0.9259259259259259\n"
     ]
    }
   ],
   "source": [
    "print(model.score(X_train,y_train))\n",
    "print(model.score(X_test,y_test))"
   ]
  },
  {
   "cell_type": "code",
   "execution_count": 50,
   "metadata": {},
   "outputs": [],
   "source": [
    "y_pred = model.predict(X_test)"
   ]
  },
  {
   "cell_type": "code",
   "execution_count": 51,
   "metadata": {},
   "outputs": [
    {
     "name": "stdout",
     "output_type": "stream",
     "text": [
      "0.9259259259259259\n"
     ]
    }
   ],
   "source": [
    "from sklearn.metrics import accuracy_score\n",
    "print(accuracy_score(y_test, y_pred))\n"
   ]
  },
  {
   "cell_type": "markdown",
   "metadata": {},
   "source": [
    "# decesion Tree"
   ]
  },
  {
   "cell_type": "code",
   "execution_count": 52,
   "metadata": {},
   "outputs": [
    {
     "data": {
      "text/plain": [
       "DecisionTreeClassifier(class_weight=None, criterion='gini', max_depth=5,\n",
       "            max_features=None, max_leaf_nodes=None,\n",
       "            min_impurity_decrease=0.0, min_impurity_split=None,\n",
       "            min_samples_leaf=1, min_samples_split=2,\n",
       "            min_weight_fraction_leaf=0.0, presort=False, random_state=None,\n",
       "            splitter='best')"
      ]
     },
     "execution_count": 52,
     "metadata": {},
     "output_type": "execute_result"
    }
   ],
   "source": [
    "from sklearn.tree import DecisionTreeClassifier\n",
    "tree=DecisionTreeClassifier(max_depth=5)\n",
    "tree.fit(X_train,y_train)"
   ]
  },
  {
   "cell_type": "code",
   "execution_count": 53,
   "metadata": {},
   "outputs": [
    {
     "name": "stdout",
     "output_type": "stream",
     "text": [
      "0.9326923076923077\n",
      "0.6666666666666666\n"
     ]
    }
   ],
   "source": [
    "print(tree.score(X_train,y_train))\n",
    "print(tree.score(X_test,y_test))"
   ]
  },
  {
   "cell_type": "markdown",
   "metadata": {},
   "source": [
    "# Random forest"
   ]
  },
  {
   "cell_type": "code",
   "execution_count": 54,
   "metadata": {},
   "outputs": [
    {
     "data": {
      "text/plain": [
       "RandomForestClassifier(bootstrap=True, class_weight=None, criterion='gini',\n",
       "            max_depth=5, max_features='auto', max_leaf_nodes=None,\n",
       "            min_impurity_decrease=0.0, min_impurity_split=None,\n",
       "            min_samples_leaf=1, min_samples_split=2,\n",
       "            min_weight_fraction_leaf=0.0, n_estimators=10, n_jobs=None,\n",
       "            oob_score=False, random_state=None, verbose=0,\n",
       "            warm_start=False)"
      ]
     },
     "execution_count": 54,
     "metadata": {},
     "output_type": "execute_result"
    }
   ],
   "source": [
    "from sklearn.ensemble import RandomForestClassifier\n",
    "forest=RandomForestClassifier(max_depth=5)\n",
    "forest.fit(X_train,y_train)"
   ]
  },
  {
   "cell_type": "code",
   "execution_count": 55,
   "metadata": {},
   "outputs": [
    {
     "name": "stdout",
     "output_type": "stream",
     "text": [
      "0.9711538461538461\n",
      "0.9259259259259259\n"
     ]
    }
   ],
   "source": [
    "print(forest.score(X_train,y_train))\n",
    "print(forest.score(X_test,y_test))"
   ]
  },
  {
   "cell_type": "markdown",
   "metadata": {},
   "source": [
    "# KNN"
   ]
  },
  {
   "cell_type": "code",
   "execution_count": 56,
   "metadata": {},
   "outputs": [
    {
     "data": {
      "text/plain": [
       "KNeighborsClassifier(algorithm='auto', leaf_size=30, metric='minkowski',\n",
       "           metric_params=None, n_jobs=None, n_neighbors=5, p=2,\n",
       "           weights='uniform')"
      ]
     },
     "execution_count": 56,
     "metadata": {},
     "output_type": "execute_result"
    }
   ],
   "source": [
    "from sklearn.neighbors import KNeighborsClassifier\n",
    "KNN=KNeighborsClassifier()\n",
    "KNN.fit(X_train,y_train)"
   ]
  },
  {
   "cell_type": "code",
   "execution_count": 57,
   "metadata": {},
   "outputs": [
    {
     "name": "stdout",
     "output_type": "stream",
     "text": [
      "0.8076923076923077\n",
      "0.7777777777777778\n"
     ]
    }
   ],
   "source": [
    "print(KNN.score(X_train,y_train))\n",
    "print(KNN.score(X_test,y_test))"
   ]
  },
  {
   "cell_type": "markdown",
   "metadata": {},
   "source": [
    "# Navie bayes"
   ]
  },
  {
   "cell_type": "code",
   "execution_count": 58,
   "metadata": {},
   "outputs": [
    {
     "data": {
      "text/plain": [
       "GaussianNB(priors=None, var_smoothing=1e-09)"
      ]
     },
     "execution_count": 58,
     "metadata": {},
     "output_type": "execute_result"
    }
   ],
   "source": [
    "from sklearn.naive_bayes import GaussianNB\n",
    "navie=GaussianNB()\n",
    "navie.fit(X_train,y_train)"
   ]
  },
  {
   "cell_type": "code",
   "execution_count": 59,
   "metadata": {},
   "outputs": [
    {
     "name": "stdout",
     "output_type": "stream",
     "text": [
      "0.6346153846153846\n",
      "0.7777777777777778\n"
     ]
    }
   ],
   "source": [
    "print(navie.score(X_train,y_train))\n",
    "print(navie.score(X_test,y_test))"
   ]
  },
  {
   "cell_type": "code",
   "execution_count": null,
   "metadata": {},
   "outputs": [],
   "source": []
  },
  {
   "cell_type": "markdown",
   "metadata": {},
   "source": [
    "# XG boost classifier "
   ]
  },
  {
   "cell_type": "code",
   "execution_count": 60,
   "metadata": {},
   "outputs": [
    {
     "data": {
      "text/plain": [
       "XGBClassifier(base_score=0.5, booster='gbtree', colsample_bylevel=1,\n",
       "       colsample_bynode=1, colsample_bytree=1, gamma=0, learning_rate=0.1,\n",
       "       max_delta_step=0, max_depth=3, min_child_weight=1, missing=None,\n",
       "       n_estimators=100, n_jobs=1, nthread=None,\n",
       "       objective='binary:logistic', random_state=0, reg_alpha=0,\n",
       "       reg_lambda=1, scale_pos_weight=1, seed=None, silent=None,\n",
       "       subsample=1, verbosity=1)"
      ]
     },
     "execution_count": 60,
     "metadata": {},
     "output_type": "execute_result"
    }
   ],
   "source": [
    "from xgboost import XGBClassifier\n",
    "boost=XGBClassifier()\n",
    "boost.fit(X_train,y_train)"
   ]
  },
  {
   "cell_type": "code",
   "execution_count": 61,
   "metadata": {},
   "outputs": [
    {
     "name": "stdout",
     "output_type": "stream",
     "text": [
      "1.0\n",
      "0.7037037037037037\n"
     ]
    }
   ],
   "source": [
    "print(boost.score(X_train,y_train))\n",
    "print(boost.score(X_test,y_test))"
   ]
  },
  {
   "cell_type": "markdown",
   "metadata": {},
   "source": [
    "# confusion metrics "
   ]
  },
  {
   "cell_type": "code",
   "execution_count": 62,
   "metadata": {},
   "outputs": [],
   "source": [
    "from sklearn.metrics import confusion_matrix\n",
    "cm=confusion_matrix(label,model.predict(final_features))"
   ]
  },
  {
   "cell_type": "code",
   "execution_count": 63,
   "metadata": {},
   "outputs": [
    {
     "name": "stdout",
     "output_type": "stream",
     "text": [
      "              precision    recall  f1-score   support\n",
      "\n",
      "           0       0.75      0.76      0.76        51\n",
      "           1       0.85      0.84      0.84        80\n",
      "\n",
      "   micro avg       0.81      0.81      0.81       131\n",
      "   macro avg       0.80      0.80      0.80       131\n",
      "weighted avg       0.81      0.81      0.81       131\n",
      "\n"
     ]
    }
   ],
   "source": [
    "from sklearn.metrics import classification_report\n",
    "print(classification_report(label,model.predict(final_features)))"
   ]
  },
  {
   "cell_type": "code",
   "execution_count": 64,
   "metadata": {},
   "outputs": [
    {
     "data": {
      "text/plain": [
       "1    80\n",
       "0    51\n",
       "Name: Class, dtype: int64"
      ]
     },
     "execution_count": 64,
     "metadata": {},
     "output_type": "execute_result"
    }
   ],
   "source": [
    "data['Class'].value_counts()"
   ]
  },
  {
   "cell_type": "code",
   "execution_count": 65,
   "metadata": {},
   "outputs": [],
   "source": [
    "#sns.pairplot(final_features)"
   ]
  },
  {
   "cell_type": "code",
   "execution_count": 68,
   "metadata": {},
   "outputs": [
    {
     "name": "stdout",
     "output_type": "stream",
     "text": [
      "0.8644607843137255\n"
     ]
    },
    {
     "data": {
      "text/plain": [
       "[<matplotlib.lines.Line2D at 0x262abd20710>]"
      ]
     },
     "execution_count": 68,
     "metadata": {},
     "output_type": "execute_result"
    },
    {
     "data": {
      "image/png": "[encoded data removed]",
      "text/plain": [
       "<Figure size 432x288 with 1 Axes>"
      ]
     },
     "metadata": {
      "needs_background": "light"
     },
     "output_type": "display_data"
    }
   ],
   "source": [
    "from sklearn.metrics import roc_curve\n",
    "from sklearn.metrics import roc_auc_score\n",
    "\n",
    "#When it comes to plotting curve, we need the probabilities for positive outcome\n",
    "\n",
    "#Calc Probabilities\n",
    "proba = model.predict_proba(final_features)\n",
    "\n",
    "#Keep Probabilities of Positive Outcome\n",
    "proba = proba[:,1]\n",
    "\n",
    "# Calc AUC\n",
    "auc = roc_auc_score(label,proba)\n",
    "print(auc)\n",
    "\n",
    "#Calc ROC Curve\n",
    "fpr,tpr,threshold = roc_curve(label,proba)\n",
    "\n",
    "#Plot No Skill\n",
    "#No skill (0,0) , Full Skill (1,1)\n",
    "\n",
    "plt.plot([0,1],[0,1], linestyle = '--')\n",
    "\n",
    "#plot ROC curve\n",
    "plt.plot(fpr,tpr, marker='.')"
   ]
  },
  {
   "cell_type": "code",
   "execution_count": null,
   "metadata": {},
   "outputs": [],
   "source": []
  }
 ],
 "metadata": {
  "kernelspec": {
   "display_name": "Python 3",
   "language": "python",
   "name": "python3"
  },
  "language_info": {
   "codemirror_mode": {
    "name": "ipython",
    "version": 3
   },
   "file_extension": ".py",
   "mimetype": "text/x-python",
   "name": "python",
   "nbconvert_exporter": "python",
   "pygments_lexer": "ipython3",
   "version": "3.7.3"
  }
 },
 "nbformat": 4,
 "nbformat_minor": 2
}
