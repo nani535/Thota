{
 "cells": [
  {
   "cell_type": "code",
   "execution_count": 87,
   "metadata": {},
   "outputs": [],
   "source": [
    "import numpy as np\n",
    "import pandas as pd"
   ]
  },
  {
   "cell_type": "code",
   "execution_count": 88,
   "metadata": {},
   "outputs": [
    {
     "name": "stdout",
     "output_type": "stream",
     "text": [
      "<class 'pandas.core.frame.DataFrame'>\n",
      "RangeIndex: 4209 entries, 0 to 4208\n",
      "Columns: 378 entries, ID to X385\n",
      "dtypes: float64(1), int64(369), object(8)\n",
      "memory usage: 12.1+ MB\n"
     ]
    }
   ],
   "source": [
    "train= pd.read_csv(r\"E:\\ML\\train.csv\")\n",
    "train.info()"
   ]
  },
  {
   "cell_type": "code",
   "execution_count": 89,
   "metadata": {},
   "outputs": [
    {
     "name": "stdout",
     "output_type": "stream",
     "text": [
      "<class 'pandas.core.frame.DataFrame'>\n",
      "RangeIndex: 4209 entries, 0 to 4208\n",
      "Columns: 377 entries, ID to X385\n",
      "dtypes: int64(369), object(8)\n",
      "memory usage: 12.1+ MB\n"
     ]
    }
   ],
   "source": [
    "test =pd.read_csv(r\"E:\\ML\\test.csv\")\n",
    "test.info()"
   ]
  },
  {
   "cell_type": "code",
   "execution_count": 90,
   "metadata": {},
   "outputs": [],
   "source": [
    "#train.describe()"
   ]
  },
  {
   "cell_type": "code",
   "execution_count": 91,
   "metadata": {},
   "outputs": [],
   "source": [
    "#test.describe()"
   ]
  },
  {
   "cell_type": "markdown",
   "metadata": {},
   "source": [
    "# checking  variance is =0\n",
    "\n"
   ]
  },
  {
   "cell_type": "code",
   "execution_count": 92,
   "metadata": {},
   "outputs": [
    {
     "data": {
      "text/plain": [
       "array(['X11', 'X93', 'X107', 'X233', 'X235', 'X268', 'X289', 'X290',\n",
       "       'X293', 'X297', 'X330', 'X347'], dtype=object)"
      ]
     },
     "execution_count": 92,
     "metadata": {},
     "output_type": "execute_result"
    }
   ],
   "source": [
    "#train data set\n",
    "train.var()[train.var() == 0].index.values\n",
    "\n"
   ]
  },
  {
   "cell_type": "code",
   "execution_count": 93,
   "metadata": {},
   "outputs": [
    {
     "data": {
      "text/plain": [
       "array(['X11', 'X93', 'X107', 'X233', 'X235', 'X268', 'X289', 'X290',\n",
       "       'X293', 'X297', 'X330', 'X347'], dtype=object)"
      ]
     },
     "execution_count": 93,
     "metadata": {},
     "output_type": "execute_result"
    }
   ],
   "source": [
    "#train data set\n",
    "train_zero_col=train.var()[train.var() == 0].index.values\n",
    "train_zero_col"
   ]
  },
  {
   "cell_type": "markdown",
   "metadata": {},
   "source": [
    "# Droping the above train columns with variance=0"
   ]
  },
  {
   "cell_type": "code",
   "execution_count": 94,
   "metadata": {},
   "outputs": [],
   "source": [
    "train_dropped_data=train.drop(train_zero_col, axis=1)"
   ]
  },
  {
   "cell_type": "code",
   "execution_count": 95,
   "metadata": {},
   "outputs": [
    {
     "name": "stdout",
     "output_type": "stream",
     "text": [
      "<class 'pandas.core.frame.DataFrame'>\n",
      "RangeIndex: 4209 entries, 0 to 4208\n",
      "Columns: 366 entries, ID to X385\n",
      "dtypes: float64(1), int64(357), object(8)\n",
      "memory usage: 11.8+ MB\n"
     ]
    }
   ],
   "source": [
    "train_dropped_data.info()"
   ]
  },
  {
   "cell_type": "code",
   "execution_count": 96,
   "metadata": {},
   "outputs": [],
   "source": [
    "# in original train data set the Columns: 378 entries, ID to X385 \n",
    "# after deleting some columns the Columns: 366 entries, ID to X385"
   ]
  },
  {
   "cell_type": "code",
   "execution_count": 97,
   "metadata": {},
   "outputs": [
    {
     "data": {
      "text/plain": [
       "array(['X257', 'X258', 'X295', 'X296', 'X369'], dtype=object)"
      ]
     },
     "execution_count": 97,
     "metadata": {},
     "output_type": "execute_result"
    }
   ],
   "source": [
    "test.var()[test.var() == 0].index.values"
   ]
  },
  {
   "cell_type": "code",
   "execution_count": 98,
   "metadata": {},
   "outputs": [
    {
     "data": {
      "text/plain": [
       "array(['X257', 'X258', 'X295', 'X296', 'X369'], dtype=object)"
      ]
     },
     "execution_count": 98,
     "metadata": {},
     "output_type": "execute_result"
    }
   ],
   "source": [
    "test_zero_col=test.var()[test.var() == 0].index.values\n",
    "test_zero_col"
   ]
  },
  {
   "cell_type": "code",
   "execution_count": 99,
   "metadata": {},
   "outputs": [],
   "source": [
    "test_dropped_data=test.drop(test_zero_col, axis=1)"
   ]
  },
  {
   "cell_type": "code",
   "execution_count": 100,
   "metadata": {},
   "outputs": [
    {
     "name": "stdout",
     "output_type": "stream",
     "text": [
      "<class 'pandas.core.frame.DataFrame'>\n",
      "RangeIndex: 4209 entries, 0 to 4208\n",
      "Columns: 372 entries, ID to X385\n",
      "dtypes: int64(364), object(8)\n",
      "memory usage: 11.9+ MB\n"
     ]
    }
   ],
   "source": [
    "test_dropped_data.info()"
   ]
  },
  {
   "cell_type": "markdown",
   "metadata": {},
   "source": [
    "Columns: 377 entries, ID to X385 \n",
    "        after dropping\n",
    "Columns: 372 entries, ID to X385"
   ]
  },
  {
   "cell_type": "markdown",
   "metadata": {},
   "source": [
    "# Step-2"
   ]
  },
  {
   "cell_type": "code",
   "execution_count": 101,
   "metadata": {},
   "outputs": [
    {
     "data": {
      "text/plain": [
       "Index(['ID', 'y', 'X0', 'X1', 'X2', 'X3', 'X4', 'X5', 'X6', 'X8',\n",
       "       ...\n",
       "       'X375', 'X376', 'X377', 'X378', 'X379', 'X380', 'X382', 'X383', 'X384',\n",
       "       'X385'],\n",
       "      dtype='object', length=366)"
      ]
     },
     "execution_count": 101,
     "metadata": {},
     "output_type": "execute_result"
    }
   ],
   "source": [
    "train_columns=train_dropped_data.columns\n",
    "train_columns"
   ]
  },
  {
   "cell_type": "markdown",
   "metadata": {},
   "source": [
    "# checking null values in train Data_set\n"
   ]
  },
  {
   "cell_type": "code",
   "execution_count": 102,
   "metadata": {},
   "outputs": [
    {
     "data": {
      "text/plain": [
       "ID      0\n",
       "y       0\n",
       "X0      0\n",
       "X1      0\n",
       "X2      0\n",
       "X3      0\n",
       "X4      0\n",
       "X5      0\n",
       "X6      0\n",
       "X8      0\n",
       "X10     0\n",
       "X12     0\n",
       "X13     0\n",
       "X14     0\n",
       "X15     0\n",
       "X16     0\n",
       "X17     0\n",
       "X18     0\n",
       "X19     0\n",
       "X20     0\n",
       "X21     0\n",
       "X22     0\n",
       "X23     0\n",
       "X24     0\n",
       "X26     0\n",
       "X27     0\n",
       "X28     0\n",
       "X29     0\n",
       "X30     0\n",
       "X31     0\n",
       "       ..\n",
       "X355    0\n",
       "X356    0\n",
       "X357    0\n",
       "X358    0\n",
       "X359    0\n",
       "X360    0\n",
       "X361    0\n",
       "X362    0\n",
       "X363    0\n",
       "X364    0\n",
       "X365    0\n",
       "X366    0\n",
       "X367    0\n",
       "X368    0\n",
       "X369    0\n",
       "X370    0\n",
       "X371    0\n",
       "X372    0\n",
       "X373    0\n",
       "X374    0\n",
       "X375    0\n",
       "X376    0\n",
       "X377    0\n",
       "X378    0\n",
       "X379    0\n",
       "X380    0\n",
       "X382    0\n",
       "X383    0\n",
       "X384    0\n",
       "X385    0\n",
       "Length: 366, dtype: int64"
      ]
     },
     "execution_count": 102,
     "metadata": {},
     "output_type": "execute_result"
    }
   ],
   "source": [
    "np.sum(train_dropped_data.isnull())"
   ]
  },
  {
   "cell_type": "markdown",
   "metadata": {},
   "source": [
    "# checking null values in test Data_set"
   ]
  },
  {
   "cell_type": "code",
   "execution_count": 103,
   "metadata": {},
   "outputs": [
    {
     "data": {
      "text/plain": [
       "ID      0\n",
       "X0      0\n",
       "X1      0\n",
       "X2      0\n",
       "X3      0\n",
       "X4      0\n",
       "X5      0\n",
       "X6      0\n",
       "X8      0\n",
       "X10     0\n",
       "X11     0\n",
       "X12     0\n",
       "X13     0\n",
       "X14     0\n",
       "X15     0\n",
       "X16     0\n",
       "X17     0\n",
       "X18     0\n",
       "X19     0\n",
       "X20     0\n",
       "X21     0\n",
       "X22     0\n",
       "X23     0\n",
       "X24     0\n",
       "X26     0\n",
       "X27     0\n",
       "X28     0\n",
       "X29     0\n",
       "X30     0\n",
       "X31     0\n",
       "       ..\n",
       "X354    0\n",
       "X355    0\n",
       "X356    0\n",
       "X357    0\n",
       "X358    0\n",
       "X359    0\n",
       "X360    0\n",
       "X361    0\n",
       "X362    0\n",
       "X363    0\n",
       "X364    0\n",
       "X365    0\n",
       "X366    0\n",
       "X367    0\n",
       "X368    0\n",
       "X370    0\n",
       "X371    0\n",
       "X372    0\n",
       "X373    0\n",
       "X374    0\n",
       "X375    0\n",
       "X376    0\n",
       "X377    0\n",
       "X378    0\n",
       "X379    0\n",
       "X380    0\n",
       "X382    0\n",
       "X383    0\n",
       "X384    0\n",
       "X385    0\n",
       "Length: 372, dtype: int64"
      ]
     },
     "execution_count": 103,
     "metadata": {},
     "output_type": "execute_result"
    }
   ],
   "source": [
    "np.sum(test_dropped_data.isnull())"
   ]
  },
  {
   "cell_type": "code",
   "execution_count": 104,
   "metadata": {},
   "outputs": [],
   "source": [
    "test_columns=test_dropped_data.columns\n"
   ]
  },
  {
   "cell_type": "markdown",
   "metadata": {},
   "source": [
    "# checking unique  values for train data set\n"
   ]
  },
  {
   "cell_type": "code",
   "execution_count": 105,
   "metadata": {},
   "outputs": [
    {
     "data": {
      "text/plain": [
       "Index(['ID', 'y', 'X0', 'X1', 'X2', 'X3', 'X4', 'X5', 'X6', 'X8',\n",
       "       ...\n",
       "       'X375', 'X376', 'X377', 'X378', 'X379', 'X380', 'X382', 'X383', 'X384',\n",
       "       'X385'],\n",
       "      dtype='object', length=366)"
      ]
     },
     "execution_count": 105,
     "metadata": {},
     "output_type": "execute_result"
    }
   ],
   "source": [
    "train_columns.unique()"
   ]
  },
  {
   "cell_type": "code",
   "execution_count": 106,
   "metadata": {},
   "outputs": [],
   "source": [
    "#train_columns.apply(pd.value_counts)"
   ]
  },
  {
   "cell_type": "markdown",
   "metadata": {},
   "source": [
    "# checking uniuqe values for train data set"
   ]
  },
  {
   "cell_type": "code",
   "execution_count": 107,
   "metadata": {},
   "outputs": [
    {
     "data": {
      "text/plain": [
       "Index(['ID', 'X0', 'X1', 'X2', 'X3', 'X4', 'X5', 'X6', 'X8', 'X10',\n",
       "       ...\n",
       "       'X375', 'X376', 'X377', 'X378', 'X379', 'X380', 'X382', 'X383', 'X384',\n",
       "       'X385'],\n",
       "      dtype='object', length=372)"
      ]
     },
     "execution_count": 107,
     "metadata": {},
     "output_type": "execute_result"
    }
   ],
   "source": [
    "test_columns.unique()"
   ]
  },
  {
   "cell_type": "code",
   "execution_count": 108,
   "metadata": {},
   "outputs": [],
   "source": [
    "#train.apply(pd.value_counts)"
   ]
  },
  {
   "cell_type": "code",
   "execution_count": 110,
   "metadata": {},
   "outputs": [
    {
     "data": {
      "text/html": [
       "<div>\n",
       "<style scoped>\n",
       "    .dataframe tbody tr th:only-of-type {\n",
       "        vertical-align: middle;\n",
       "    }\n",
       "\n",
       "    .dataframe tbody tr th {\n",
       "        vertical-align: top;\n",
       "    }\n",
       "\n",
       "    .dataframe thead th {\n",
       "        text-align: right;\n",
       "    }\n",
       "</style>\n",
       "<table border=\"1\" class=\"dataframe\">\n",
       "  <thead>\n",
       "    <tr style=\"text-align: right;\">\n",
       "      <th></th>\n",
       "      <th>X0</th>\n",
       "      <th>X1</th>\n",
       "      <th>X2</th>\n",
       "      <th>X3</th>\n",
       "      <th>X4</th>\n",
       "      <th>X5</th>\n",
       "      <th>X6</th>\n",
       "      <th>X8</th>\n",
       "    </tr>\n",
       "  </thead>\n",
       "  <tbody>\n",
       "    <tr>\n",
       "      <th>count</th>\n",
       "      <td>4209</td>\n",
       "      <td>4209</td>\n",
       "      <td>4209</td>\n",
       "      <td>4209</td>\n",
       "      <td>4209</td>\n",
       "      <td>4209</td>\n",
       "      <td>4209</td>\n",
       "      <td>4209</td>\n",
       "    </tr>\n",
       "    <tr>\n",
       "      <th>unique</th>\n",
       "      <td>47</td>\n",
       "      <td>27</td>\n",
       "      <td>44</td>\n",
       "      <td>7</td>\n",
       "      <td>4</td>\n",
       "      <td>29</td>\n",
       "      <td>12</td>\n",
       "      <td>25</td>\n",
       "    </tr>\n",
       "    <tr>\n",
       "      <th>top</th>\n",
       "      <td>z</td>\n",
       "      <td>aa</td>\n",
       "      <td>as</td>\n",
       "      <td>c</td>\n",
       "      <td>d</td>\n",
       "      <td>v</td>\n",
       "      <td>g</td>\n",
       "      <td>j</td>\n",
       "    </tr>\n",
       "    <tr>\n",
       "      <th>freq</th>\n",
       "      <td>360</td>\n",
       "      <td>833</td>\n",
       "      <td>1659</td>\n",
       "      <td>1942</td>\n",
       "      <td>4205</td>\n",
       "      <td>231</td>\n",
       "      <td>1042</td>\n",
       "      <td>277</td>\n",
       "    </tr>\n",
       "  </tbody>\n",
       "</table>\n",
       "</div>"
      ],
      "text/plain": [
       "          X0    X1    X2    X3    X4    X5    X6    X8\n",
       "count   4209  4209  4209  4209  4209  4209  4209  4209\n",
       "unique    47    27    44     7     4    29    12    25\n",
       "top        z    aa    as     c     d     v     g     j\n",
       "freq     360   833  1659  1942  4205   231  1042   277"
      ]
     },
     "execution_count": 110,
     "metadata": {},
     "output_type": "execute_result"
    }
   ],
   "source": [
    "train_dropped_data.describe(include=['object'])"
   ]
  },
  {
   "cell_type": "code",
   "execution_count": 111,
   "metadata": {},
   "outputs": [
    {
     "data": {
      "text/html": [
       "<div>\n",
       "<style scoped>\n",
       "    .dataframe tbody tr th:only-of-type {\n",
       "        vertical-align: middle;\n",
       "    }\n",
       "\n",
       "    .dataframe tbody tr th {\n",
       "        vertical-align: top;\n",
       "    }\n",
       "\n",
       "    .dataframe thead th {\n",
       "        text-align: right;\n",
       "    }\n",
       "</style>\n",
       "<table border=\"1\" class=\"dataframe\">\n",
       "  <thead>\n",
       "    <tr style=\"text-align: right;\">\n",
       "      <th></th>\n",
       "      <th>X0</th>\n",
       "      <th>X1</th>\n",
       "      <th>X2</th>\n",
       "      <th>X3</th>\n",
       "      <th>X4</th>\n",
       "      <th>X5</th>\n",
       "      <th>X6</th>\n",
       "      <th>X8</th>\n",
       "    </tr>\n",
       "  </thead>\n",
       "  <tbody>\n",
       "    <tr>\n",
       "      <th>count</th>\n",
       "      <td>4209</td>\n",
       "      <td>4209</td>\n",
       "      <td>4209</td>\n",
       "      <td>4209</td>\n",
       "      <td>4209</td>\n",
       "      <td>4209</td>\n",
       "      <td>4209</td>\n",
       "      <td>4209</td>\n",
       "    </tr>\n",
       "    <tr>\n",
       "      <th>unique</th>\n",
       "      <td>49</td>\n",
       "      <td>27</td>\n",
       "      <td>45</td>\n",
       "      <td>7</td>\n",
       "      <td>4</td>\n",
       "      <td>32</td>\n",
       "      <td>12</td>\n",
       "      <td>25</td>\n",
       "    </tr>\n",
       "    <tr>\n",
       "      <th>top</th>\n",
       "      <td>ak</td>\n",
       "      <td>aa</td>\n",
       "      <td>as</td>\n",
       "      <td>c</td>\n",
       "      <td>d</td>\n",
       "      <td>v</td>\n",
       "      <td>g</td>\n",
       "      <td>e</td>\n",
       "    </tr>\n",
       "    <tr>\n",
       "      <th>freq</th>\n",
       "      <td>432</td>\n",
       "      <td>826</td>\n",
       "      <td>1658</td>\n",
       "      <td>1900</td>\n",
       "      <td>4203</td>\n",
       "      <td>246</td>\n",
       "      <td>1073</td>\n",
       "      <td>274</td>\n",
       "    </tr>\n",
       "  </tbody>\n",
       "</table>\n",
       "</div>"
      ],
      "text/plain": [
       "          X0    X1    X2    X3    X4    X5    X6    X8\n",
       "count   4209  4209  4209  4209  4209  4209  4209  4209\n",
       "unique    49    27    45     7     4    32    12    25\n",
       "top       ak    aa    as     c     d     v     g     e\n",
       "freq     432   826  1658  1900  4203   246  1073   274"
      ]
     },
     "execution_count": 111,
     "metadata": {},
     "output_type": "execute_result"
    }
   ],
   "source": [
    "test_dropped_data.describe(include=['object'])"
   ]
  },
  {
   "cell_type": "code",
   "execution_count": 112,
   "metadata": {},
   "outputs": [
    {
     "data": {
      "text/plain": [
       "array(['X0', 'X1', 'X2', 'X3', 'X4', 'X5', 'X6', 'X8'], dtype=object)"
      ]
     },
     "execution_count": 112,
     "metadata": {},
     "output_type": "execute_result"
    }
   ],
   "source": [
    "#checking the categorical data in train data set\n",
    "label_columns = train_dropped_data.describe(include=['object']).columns.values\n",
    "label_columns\n",
    "\n"
   ]
  },
  {
   "cell_type": "code",
   "execution_count": 113,
   "metadata": {},
   "outputs": [
    {
     "data": {
      "text/plain": [
       "array(['X0', 'X1', 'X2', 'X3', 'X4', 'X5', 'X6', 'X8'], dtype=object)"
      ]
     },
     "execution_count": 113,
     "metadata": {},
     "output_type": "execute_result"
    }
   ],
   "source": [
    "\n",
    "label1_columns = test_dropped_data.describe(include=['object']).columns.values\n",
    "label1_columns\n"
   ]
  },
  {
   "cell_type": "markdown",
   "metadata": {},
   "source": [
    "# # Step:3  Apply label encoder"
   ]
  },
  {
   "cell_type": "code",
   "execution_count": 114,
   "metadata": {},
   "outputs": [],
   "source": [
    "from sklearn.preprocessing import LabelEncoder\n",
    "from sklearn.preprocessing import OneHotEncoder\n",
    "le = LabelEncoder()\n",
    "for col in label_columns:\n",
    "    le.fit(train_dropped_data[col].append(test_dropped_data[col]).values)\n",
    "    train_dropped_data[col]=le.transform(train_dropped_data[col])\n",
    "    test_dropped_data[col]=le.transform(test_dropped_data[col])"
   ]
  },
  {
   "cell_type": "code",
   "execution_count": null,
   "metadata": {},
   "outputs": [],
   "source": [
    "\n"
   ]
  },
  {
   "cell_type": "code",
   "execution_count": 115,
   "metadata": {},
   "outputs": [],
   "source": [
    "#features= train_dropped_data.iloc[:,2:].values\n",
    "#labels = train_dropped_data.iloc[:,-1].values"
   ]
  },
  {
   "cell_type": "code",
   "execution_count": 116,
   "metadata": {},
   "outputs": [
    {
     "data": {
      "text/plain": [
       "2"
      ]
     },
     "execution_count": 116,
     "metadata": {},
     "output_type": "execute_result"
    }
   ],
   "source": [
    "features.ndim\n"
   ]
  },
  {
   "cell_type": "code",
   "execution_count": null,
   "metadata": {},
   "outputs": [],
   "source": []
  },
  {
   "cell_type": "code",
   "execution_count": 195,
   "metadata": {},
   "outputs": [],
   "source": [
    "from sklearn.model_selection import train_test_split\n",
    "X_train,X_test,y_train,y_test = train_test_split(features,\n",
    "                                                 labels,\n",
    "                                                 test_size=0.2,\n",
    "                                               random_state=10)"
   ]
  },
  {
   "cell_type": "code",
   "execution_count": 196,
   "metadata": {},
   "outputs": [
    {
     "name": "stderr",
     "output_type": "stream",
     "text": [
      "C:\\Users\\thota\\Anaconda3\\lib\\site-packages\\sklearn\\linear_model\\logistic.py:433: FutureWarning: Default solver will be changed to 'lbfgs' in 0.22. Specify a solver to silence this warning.\n",
      "  FutureWarning)\n"
     ]
    },
    {
     "data": {
      "text/plain": [
       "LogisticRegression(C=1.0, class_weight=None, dual=False, fit_intercept=True,\n",
       "          intercept_scaling=1, max_iter=100, multi_class='warn',\n",
       "          n_jobs=None, penalty='l2', random_state=None, solver='warn',\n",
       "          tol=0.0001, verbose=0, warm_start=False)"
      ]
     },
     "execution_count": 196,
     "metadata": {},
     "output_type": "execute_result"
    }
   ],
   "source": [
    "from sklearn.linear_model import LogisticRegression\n",
    "leg= LogisticRegression()\n",
    "leg.fit(X_train,y_train)"
   ]
  },
  {
   "cell_type": "code",
   "execution_count": 197,
   "metadata": {},
   "outputs": [
    {
     "name": "stdout",
     "output_type": "stream",
     "text": [
      "Training Score 1.0 Testing Score 1.0\n"
     ]
    }
   ],
   "source": [
    "TrainScore = leg.score(X_train,y_train)\n",
    "TestScore = leg.score(X_test,y_test)\n",
    "print(\"Training Score {} Testing Score {}\". format(TrainScore,TestScore))"
   ]
  },
  {
   "cell_type": "markdown",
   "metadata": {},
   "source": [
    "# Applying PCA\n"
   ]
  },
  {
   "cell_type": "code",
   "execution_count": 198,
   "metadata": {},
   "outputs": [
    {
     "data": {
      "text/plain": [
       "PCA(copy=True, iterated_power='auto', n_components=98, random_state=None,\n",
       "  svd_solver='auto', tol=0.0, whiten=False)"
      ]
     },
     "execution_count": 198,
     "metadata": {},
     "output_type": "execute_result"
    }
   ],
   "source": [
    "from sklearn.decomposition import PCA\n",
    "principalComponents = PCA(n_components=98)\n",
    "principalComponents.fit(features,labels)"
   ]
  },
  {
   "cell_type": "code",
   "execution_count": 199,
   "metadata": {},
   "outputs": [],
   "source": [
    "sklearn_pca = PCA(n_components=0.98)"
   ]
  },
  {
   "cell_type": "code",
   "execution_count": 200,
   "metadata": {},
   "outputs": [
    {
     "data": {
      "text/plain": [
       "PCA(copy=True, iterated_power='auto', n_components=0.98, random_state=None,\n",
       "  svd_solver='auto', tol=0.0, whiten=False)"
      ]
     },
     "execution_count": 200,
     "metadata": {},
     "output_type": "execute_result"
    }
   ],
   "source": [
    "sklearn_pca.fit(X_train)"
   ]
  },
  {
   "cell_type": "code",
   "execution_count": 201,
   "metadata": {},
   "outputs": [
    {
     "data": {
      "text/plain": [
       "array([4.08689879e-01, 2.17585077e-01, 1.31200808e-01, 1.07835223e-01,\n",
       "       8.16524789e-02, 1.40934027e-02, 6.60951171e-03, 3.84659192e-03,\n",
       "       2.60288938e-03, 2.14378144e-03, 2.09857078e-03, 1.80387564e-03,\n",
       "       1.48016508e-03, 1.31163426e-03, 1.14048800e-03, 9.18564405e-04,\n",
       "       8.49319384e-04, 7.95592011e-04, 6.96370320e-04, 6.28377000e-04,\n",
       "       5.72268089e-04, 5.53034525e-04, 5.18552066e-04, 4.54851774e-04,\n",
       "       4.30273667e-04, 3.83978619e-04, 3.66708831e-04, 3.34660628e-04,\n",
       "       3.27499427e-04, 3.15393259e-04, 2.93055335e-04, 2.78599266e-04,\n",
       "       2.65173410e-04, 2.51329158e-04, 2.37484612e-04, 2.20153218e-04,\n",
       "       1.96197354e-04, 1.90392465e-04, 1.83388549e-04, 1.73952729e-04,\n",
       "       1.65849825e-04, 1.58461956e-04, 1.55772773e-04, 1.54537011e-04,\n",
       "       1.51383347e-04, 1.35778337e-04, 1.32427569e-04, 1.27356343e-04,\n",
       "       1.25380242e-04, 1.22367374e-04, 1.17783437e-04, 1.14937200e-04,\n",
       "       1.11561713e-04, 1.05705421e-04, 1.01665644e-04, 9.57661378e-05,\n",
       "       9.48560709e-05, 9.11974363e-05, 8.97503416e-05, 8.74366107e-05,\n",
       "       8.24706699e-05, 8.03803703e-05, 7.70242628e-05, 7.63138604e-05,\n",
       "       7.04278456e-05, 6.90075162e-05, 6.73972960e-05, 6.63692801e-05,\n",
       "       6.26666718e-05, 6.10737555e-05, 5.92782886e-05, 5.85661775e-05,\n",
       "       5.64233500e-05, 5.46701129e-05, 5.39363763e-05, 5.26356204e-05,\n",
       "       5.19283735e-05, 5.00100642e-05, 4.86854121e-05, 4.81751272e-05,\n",
       "       4.71434959e-05, 4.57546213e-05, 4.45793854e-05, 4.29134799e-05,\n",
       "       4.15197732e-05, 4.10766162e-05, 3.96235573e-05, 3.87131375e-05,\n",
       "       3.80917944e-05, 3.77664307e-05, 3.66784523e-05, 3.57694981e-05,\n",
       "       3.42464537e-05, 3.26868209e-05, 3.22055521e-05, 3.16134960e-05,\n",
       "       3.04708198e-05, 3.00048437e-05])"
      ]
     },
     "execution_count": 201,
     "metadata": {},
     "output_type": "execute_result"
    }
   ],
   "source": [
    "principalComponents.explained_variance_ratio_\n"
   ]
  },
  {
   "cell_type": "code",
   "execution_count": 202,
   "metadata": {},
   "outputs": [
    {
     "data": {
      "text/html": [
       "<div>\n",
       "<style scoped>\n",
       "    .dataframe tbody tr th:only-of-type {\n",
       "        vertical-align: middle;\n",
       "    }\n",
       "\n",
       "    .dataframe tbody tr th {\n",
       "        vertical-align: top;\n",
       "    }\n",
       "\n",
       "    .dataframe thead th {\n",
       "        text-align: right;\n",
       "    }\n",
       "</style>\n",
       "<table border=\"1\" class=\"dataframe\">\n",
       "  <thead>\n",
       "    <tr style=\"text-align: right;\">\n",
       "      <th></th>\n",
       "      <th>0</th>\n",
       "      <th>1</th>\n",
       "      <th>2</th>\n",
       "      <th>3</th>\n",
       "      <th>4</th>\n",
       "      <th>5</th>\n",
       "      <th>6</th>\n",
       "      <th>7</th>\n",
       "      <th>8</th>\n",
       "      <th>9</th>\n",
       "      <th>...</th>\n",
       "      <th>88</th>\n",
       "      <th>89</th>\n",
       "      <th>90</th>\n",
       "      <th>91</th>\n",
       "      <th>92</th>\n",
       "      <th>93</th>\n",
       "      <th>94</th>\n",
       "      <th>95</th>\n",
       "      <th>96</th>\n",
       "      <th>97</th>\n",
       "    </tr>\n",
       "  </thead>\n",
       "  <tbody>\n",
       "    <tr>\n",
       "      <th>0</th>\n",
       "      <td>-17.460399</td>\n",
       "      <td>1.935352</td>\n",
       "      <td>2.905539</td>\n",
       "      <td>-7.325726</td>\n",
       "      <td>6.305020</td>\n",
       "      <td>4.145486</td>\n",
       "      <td>1.727192</td>\n",
       "      <td>-2.658276</td>\n",
       "      <td>0.859078</td>\n",
       "      <td>0.801523</td>\n",
       "      <td>...</td>\n",
       "      <td>0.045232</td>\n",
       "      <td>-0.045912</td>\n",
       "      <td>-0.051192</td>\n",
       "      <td>0.042600</td>\n",
       "      <td>-0.067003</td>\n",
       "      <td>-0.040685</td>\n",
       "      <td>0.040446</td>\n",
       "      <td>-0.037943</td>\n",
       "      <td>-0.000974</td>\n",
       "      <td>-0.035866</td>\n",
       "    </tr>\n",
       "    <tr>\n",
       "      <th>1</th>\n",
       "      <td>-11.167472</td>\n",
       "      <td>-8.250288</td>\n",
       "      <td>4.584157</td>\n",
       "      <td>13.363837</td>\n",
       "      <td>-4.433659</td>\n",
       "      <td>3.105982</td>\n",
       "      <td>1.932175</td>\n",
       "      <td>1.901826</td>\n",
       "      <td>0.062763</td>\n",
       "      <td>1.152018</td>\n",
       "      <td>...</td>\n",
       "      <td>0.040010</td>\n",
       "      <td>-0.006988</td>\n",
       "      <td>-0.014692</td>\n",
       "      <td>-0.086458</td>\n",
       "      <td>0.023747</td>\n",
       "      <td>-0.005745</td>\n",
       "      <td>0.007715</td>\n",
       "      <td>0.028584</td>\n",
       "      <td>0.045622</td>\n",
       "      <td>0.023303</td>\n",
       "    </tr>\n",
       "    <tr>\n",
       "      <th>2</th>\n",
       "      <td>10.424728</td>\n",
       "      <td>-11.392937</td>\n",
       "      <td>-10.210733</td>\n",
       "      <td>2.332987</td>\n",
       "      <td>-7.703544</td>\n",
       "      <td>-1.388951</td>\n",
       "      <td>-1.989637</td>\n",
       "      <td>0.495455</td>\n",
       "      <td>-0.915177</td>\n",
       "      <td>-0.234765</td>\n",
       "      <td>...</td>\n",
       "      <td>-0.135635</td>\n",
       "      <td>-0.189466</td>\n",
       "      <td>0.241246</td>\n",
       "      <td>0.023604</td>\n",
       "      <td>0.246032</td>\n",
       "      <td>0.002719</td>\n",
       "      <td>-0.125410</td>\n",
       "      <td>-0.325507</td>\n",
       "      <td>-0.108915</td>\n",
       "      <td>0.491750</td>\n",
       "    </tr>\n",
       "    <tr>\n",
       "      <th>3</th>\n",
       "      <td>23.300929</td>\n",
       "      <td>-7.147855</td>\n",
       "      <td>-10.330900</td>\n",
       "      <td>0.474658</td>\n",
       "      <td>6.089487</td>\n",
       "      <td>-1.198755</td>\n",
       "      <td>-2.628153</td>\n",
       "      <td>-1.689854</td>\n",
       "      <td>-0.342056</td>\n",
       "      <td>-0.296889</td>\n",
       "      <td>...</td>\n",
       "      <td>-0.083641</td>\n",
       "      <td>-0.019309</td>\n",
       "      <td>-0.112937</td>\n",
       "      <td>-0.071756</td>\n",
       "      <td>0.040901</td>\n",
       "      <td>0.013947</td>\n",
       "      <td>-0.077491</td>\n",
       "      <td>0.014582</td>\n",
       "      <td>-0.017744</td>\n",
       "      <td>0.051971</td>\n",
       "    </tr>\n",
       "    <tr>\n",
       "      <th>4</th>\n",
       "      <td>-20.425201</td>\n",
       "      <td>-6.652617</td>\n",
       "      <td>9.775983</td>\n",
       "      <td>-10.331518</td>\n",
       "      <td>-11.222868</td>\n",
       "      <td>-4.283098</td>\n",
       "      <td>1.999772</td>\n",
       "      <td>1.474038</td>\n",
       "      <td>-0.813903</td>\n",
       "      <td>0.600996</td>\n",
       "      <td>...</td>\n",
       "      <td>-0.091381</td>\n",
       "      <td>-0.107056</td>\n",
       "      <td>0.147325</td>\n",
       "      <td>-0.173430</td>\n",
       "      <td>0.057080</td>\n",
       "      <td>-0.003879</td>\n",
       "      <td>-0.020524</td>\n",
       "      <td>0.024307</td>\n",
       "      <td>0.056571</td>\n",
       "      <td>0.025615</td>\n",
       "    </tr>\n",
       "  </tbody>\n",
       "</table>\n",
       "<p>5 rows × 98 columns</p>\n",
       "</div>"
      ],
      "text/plain": [
       "          0          1          2          3          4         5         6   \\\n",
       "0 -17.460399   1.935352   2.905539  -7.325726   6.305020  4.145486  1.727192   \n",
       "1 -11.167472  -8.250288   4.584157  13.363837  -4.433659  3.105982  1.932175   \n",
       "2  10.424728 -11.392937 -10.210733   2.332987  -7.703544 -1.388951 -1.989637   \n",
       "3  23.300929  -7.147855 -10.330900   0.474658   6.089487 -1.198755 -2.628153   \n",
       "4 -20.425201  -6.652617   9.775983 -10.331518 -11.222868 -4.283098  1.999772   \n",
       "\n",
       "         7         8         9   ...        88        89        90        91  \\\n",
       "0 -2.658276  0.859078  0.801523  ...  0.045232 -0.045912 -0.051192  0.042600   \n",
       "1  1.901826  0.062763  1.152018  ...  0.040010 -0.006988 -0.014692 -0.086458   \n",
       "2  0.495455 -0.915177 -0.234765  ... -0.135635 -0.189466  0.241246  0.023604   \n",
       "3 -1.689854 -0.342056 -0.296889  ... -0.083641 -0.019309 -0.112937 -0.071756   \n",
       "4  1.474038 -0.813903  0.600996  ... -0.091381 -0.107056  0.147325 -0.173430   \n",
       "\n",
       "         92        93        94        95        96        97  \n",
       "0 -0.067003 -0.040685  0.040446 -0.037943 -0.000974 -0.035866  \n",
       "1  0.023747 -0.005745  0.007715  0.028584  0.045622  0.023303  \n",
       "2  0.246032  0.002719 -0.125410 -0.325507 -0.108915  0.491750  \n",
       "3  0.040901  0.013947 -0.077491  0.014582 -0.017744  0.051971  \n",
       "4  0.057080 -0.003879 -0.020524  0.024307  0.056571  0.025615  \n",
       "\n",
       "[5 rows x 98 columns]"
      ]
     },
     "execution_count": 202,
     "metadata": {},
     "output_type": "execute_result"
    }
   ],
   "source": [
    "\n",
    "pca_x_train = pd.DataFrame(principalComponents.transform(X_train))\n",
    "pca_x_train.head()"
   ]
  },
  {
   "cell_type": "code",
   "execution_count": 203,
   "metadata": {},
   "outputs": [
    {
     "data": {
      "text/html": [
       "<div>\n",
       "<style scoped>\n",
       "    .dataframe tbody tr th:only-of-type {\n",
       "        vertical-align: middle;\n",
       "    }\n",
       "\n",
       "    .dataframe tbody tr th {\n",
       "        vertical-align: top;\n",
       "    }\n",
       "\n",
       "    .dataframe thead th {\n",
       "        text-align: right;\n",
       "    }\n",
       "</style>\n",
       "<table border=\"1\" class=\"dataframe\">\n",
       "  <thead>\n",
       "    <tr style=\"text-align: right;\">\n",
       "      <th></th>\n",
       "      <th>0</th>\n",
       "      <th>1</th>\n",
       "      <th>2</th>\n",
       "      <th>3</th>\n",
       "      <th>4</th>\n",
       "      <th>5</th>\n",
       "      <th>6</th>\n",
       "      <th>7</th>\n",
       "      <th>8</th>\n",
       "      <th>9</th>\n",
       "      <th>...</th>\n",
       "      <th>88</th>\n",
       "      <th>89</th>\n",
       "      <th>90</th>\n",
       "      <th>91</th>\n",
       "      <th>92</th>\n",
       "      <th>93</th>\n",
       "      <th>94</th>\n",
       "      <th>95</th>\n",
       "      <th>96</th>\n",
       "      <th>97</th>\n",
       "    </tr>\n",
       "  </thead>\n",
       "  <tbody>\n",
       "    <tr>\n",
       "      <th>0</th>\n",
       "      <td>-12.199529</td>\n",
       "      <td>1.473405</td>\n",
       "      <td>4.969911</td>\n",
       "      <td>-10.136803</td>\n",
       "      <td>-10.512450</td>\n",
       "      <td>4.961853</td>\n",
       "      <td>-0.606839</td>\n",
       "      <td>-2.489584</td>\n",
       "      <td>0.679529</td>\n",
       "      <td>0.289930</td>\n",
       "      <td>...</td>\n",
       "      <td>0.055950</td>\n",
       "      <td>0.033347</td>\n",
       "      <td>-0.114377</td>\n",
       "      <td>0.042429</td>\n",
       "      <td>0.021405</td>\n",
       "      <td>-0.053791</td>\n",
       "      <td>-0.108753</td>\n",
       "      <td>-0.013734</td>\n",
       "      <td>0.053120</td>\n",
       "      <td>0.033189</td>\n",
       "    </tr>\n",
       "    <tr>\n",
       "      <th>1</th>\n",
       "      <td>-15.090736</td>\n",
       "      <td>-8.738195</td>\n",
       "      <td>5.151048</td>\n",
       "      <td>-9.053640</td>\n",
       "      <td>2.948246</td>\n",
       "      <td>-4.046263</td>\n",
       "      <td>-0.282178</td>\n",
       "      <td>0.870825</td>\n",
       "      <td>-0.497458</td>\n",
       "      <td>-0.285826</td>\n",
       "      <td>...</td>\n",
       "      <td>0.082133</td>\n",
       "      <td>-0.118290</td>\n",
       "      <td>0.145265</td>\n",
       "      <td>0.124377</td>\n",
       "      <td>-0.081129</td>\n",
       "      <td>0.014491</td>\n",
       "      <td>-0.049435</td>\n",
       "      <td>0.044611</td>\n",
       "      <td>-0.070764</td>\n",
       "      <td>-0.018991</td>\n",
       "    </tr>\n",
       "    <tr>\n",
       "      <th>2</th>\n",
       "      <td>10.155512</td>\n",
       "      <td>-5.595474</td>\n",
       "      <td>-8.128344</td>\n",
       "      <td>4.727639</td>\n",
       "      <td>0.327876</td>\n",
       "      <td>6.633871</td>\n",
       "      <td>-1.304357</td>\n",
       "      <td>1.873477</td>\n",
       "      <td>0.406918</td>\n",
       "      <td>-0.265205</td>\n",
       "      <td>...</td>\n",
       "      <td>0.392471</td>\n",
       "      <td>0.333267</td>\n",
       "      <td>-0.545884</td>\n",
       "      <td>-0.056591</td>\n",
       "      <td>0.494265</td>\n",
       "      <td>0.416335</td>\n",
       "      <td>0.042495</td>\n",
       "      <td>-0.656134</td>\n",
       "      <td>0.066815</td>\n",
       "      <td>-0.577203</td>\n",
       "    </tr>\n",
       "    <tr>\n",
       "      <th>3</th>\n",
       "      <td>30.925451</td>\n",
       "      <td>15.620637</td>\n",
       "      <td>-6.479820</td>\n",
       "      <td>7.688562</td>\n",
       "      <td>-2.190709</td>\n",
       "      <td>3.768786</td>\n",
       "      <td>3.551019</td>\n",
       "      <td>-0.213789</td>\n",
       "      <td>0.438899</td>\n",
       "      <td>-1.114165</td>\n",
       "      <td>...</td>\n",
       "      <td>-0.000520</td>\n",
       "      <td>0.049309</td>\n",
       "      <td>-0.052713</td>\n",
       "      <td>0.002438</td>\n",
       "      <td>-0.036450</td>\n",
       "      <td>0.033468</td>\n",
       "      <td>0.006046</td>\n",
       "      <td>0.070276</td>\n",
       "      <td>-0.034649</td>\n",
       "      <td>0.018212</td>\n",
       "    </tr>\n",
       "    <tr>\n",
       "      <th>4</th>\n",
       "      <td>24.917387</td>\n",
       "      <td>-7.209175</td>\n",
       "      <td>5.749065</td>\n",
       "      <td>2.208805</td>\n",
       "      <td>-3.585600</td>\n",
       "      <td>2.424282</td>\n",
       "      <td>-2.147924</td>\n",
       "      <td>-1.611703</td>\n",
       "      <td>-0.950562</td>\n",
       "      <td>-0.123950</td>\n",
       "      <td>...</td>\n",
       "      <td>-0.036924</td>\n",
       "      <td>-0.087115</td>\n",
       "      <td>0.027092</td>\n",
       "      <td>0.039931</td>\n",
       "      <td>0.094153</td>\n",
       "      <td>0.084832</td>\n",
       "      <td>-0.067640</td>\n",
       "      <td>-0.001276</td>\n",
       "      <td>-0.073770</td>\n",
       "      <td>-0.061408</td>\n",
       "    </tr>\n",
       "  </tbody>\n",
       "</table>\n",
       "<p>5 rows × 98 columns</p>\n",
       "</div>"
      ],
      "text/plain": [
       "          0          1         2          3          4         5         6   \\\n",
       "0 -12.199529   1.473405  4.969911 -10.136803 -10.512450  4.961853 -0.606839   \n",
       "1 -15.090736  -8.738195  5.151048  -9.053640   2.948246 -4.046263 -0.282178   \n",
       "2  10.155512  -5.595474 -8.128344   4.727639   0.327876  6.633871 -1.304357   \n",
       "3  30.925451  15.620637 -6.479820   7.688562  -2.190709  3.768786  3.551019   \n",
       "4  24.917387  -7.209175  5.749065   2.208805  -3.585600  2.424282 -2.147924   \n",
       "\n",
       "         7         8         9   ...        88        89        90        91  \\\n",
       "0 -2.489584  0.679529  0.289930  ...  0.055950  0.033347 -0.114377  0.042429   \n",
       "1  0.870825 -0.497458 -0.285826  ...  0.082133 -0.118290  0.145265  0.124377   \n",
       "2  1.873477  0.406918 -0.265205  ...  0.392471  0.333267 -0.545884 -0.056591   \n",
       "3 -0.213789  0.438899 -1.114165  ... -0.000520  0.049309 -0.052713  0.002438   \n",
       "4 -1.611703 -0.950562 -0.123950  ... -0.036924 -0.087115  0.027092  0.039931   \n",
       "\n",
       "         92        93        94        95        96        97  \n",
       "0  0.021405 -0.053791 -0.108753 -0.013734  0.053120  0.033189  \n",
       "1 -0.081129  0.014491 -0.049435  0.044611 -0.070764 -0.018991  \n",
       "2  0.494265  0.416335  0.042495 -0.656134  0.066815 -0.577203  \n",
       "3 -0.036450  0.033468  0.006046  0.070276 -0.034649  0.018212  \n",
       "4  0.094153  0.084832 -0.067640 -0.001276 -0.073770 -0.061408  \n",
       "\n",
       "[5 rows x 98 columns]"
      ]
     },
     "execution_count": 203,
     "metadata": {},
     "output_type": "execute_result"
    }
   ],
   "source": [
    "pca_test=pd.DataFrame(principalComponents.transform(X_test))\n",
    "pca_test.head()"
   ]
  },
  {
   "cell_type": "code",
   "execution_count": null,
   "metadata": {},
   "outputs": [],
   "source": []
  },
  {
   "cell_type": "code",
   "execution_count": 204,
   "metadata": {},
   "outputs": [
    {
     "name": "stdout",
     "output_type": "stream",
     "text": [
      "(3367, 98)\n"
     ]
    }
   ],
   "source": [
    "print(finalFeatures.shape)"
   ]
  },
  {
   "cell_type": "code",
   "execution_count": 205,
   "metadata": {},
   "outputs": [
    {
     "data": {
      "text/plain": [
       "KNeighborsClassifier(algorithm='auto', leaf_size=30, metric='minkowski',\n",
       "           metric_params=None, n_jobs=None, n_neighbors=5, p=2,\n",
       "           weights='uniform')"
      ]
     },
     "execution_count": 205,
     "metadata": {},
     "output_type": "execute_result"
    }
   ],
   "source": [
    "from sklearn.neighbors import KNeighborsClassifier\n",
    "model = KNeighborsClassifier()\n",
    "model.fit(X_train,y_train)\n"
   ]
  },
  {
   "cell_type": "code",
   "execution_count": null,
   "metadata": {},
   "outputs": [],
   "source": []
  },
  {
   "cell_type": "code",
   "execution_count": 206,
   "metadata": {},
   "outputs": [
    {
     "name": "stdout",
     "output_type": "stream",
     "text": [
      "0.9994059994059994\n",
      "1.0\n"
     ]
    }
   ],
   "source": [
    "print(model.score(X_train,y_train))\n",
    "print(model.score(X_test,y_test))"
   ]
  },
  {
   "cell_type": "code",
   "execution_count": 207,
   "metadata": {},
   "outputs": [
    {
     "data": {
      "text/plain": [
       "array([[-9.47882068e-01,  2.09264757e-01,  2.29661509e-01, ...,\n",
       "         7.06159720e-06, -1.00973150e-05, -2.62563493e-05],\n",
       "       [ 2.35547968e-01, -4.50142622e-03,  9.68073720e-01, ...,\n",
       "        -8.85958568e-05,  2.74561489e-08, -1.08927086e-05],\n",
       "       [ 5.65297939e-02,  2.80718825e-01,  1.52970181e-02, ...,\n",
       "        -7.31904544e-05,  3.07685011e-05,  1.50975422e-04],\n",
       "       ...,\n",
       "       [ 4.22664080e-04,  2.37064850e-03,  5.24263708e-03, ...,\n",
       "        -1.07578219e-02,  3.79412087e-04,  5.31751941e-02],\n",
       "       [ 3.79075753e-04,  1.64934973e-03, -5.32473343e-03, ...,\n",
       "         2.57516934e-02, -4.03399571e-04,  2.49053341e-02],\n",
       "       [-1.08947425e-03,  1.77615382e-03,  1.46877895e-03, ...,\n",
       "        -2.33862283e-03, -2.38301034e-03,  9.08159913e-03]])"
      ]
     },
     "execution_count": 207,
     "metadata": {},
     "output_type": "execute_result"
    }
   ],
   "source": [
    "principalComponents.components_ \n"
   ]
  },
  {
   "cell_type": "markdown",
   "metadata": {},
   "source": [
    "# xg boost"
   ]
  },
  {
   "cell_type": "code",
   "execution_count": 208,
   "metadata": {},
   "outputs": [],
   "source": [
    "from  xgboost import XGBRFRegressor"
   ]
  },
  {
   "cell_type": "code",
   "execution_count": 209,
   "metadata": {},
   "outputs": [],
   "source": [
    "model= XGBRFRegressor(object='reg:linear',learning_rate=0.1)"
   ]
  },
  {
   "cell_type": "code",
   "execution_count": 210,
   "metadata": {},
   "outputs": [
    {
     "name": "stdout",
     "output_type": "stream",
     "text": [
      "[13:38:56] WARNING: C:/Jenkins/workspace/xgboost-win64_release_0.90/src/objective/regression_obj.cu:152: reg:linear is now deprecated in favor of reg:squarederror.\n"
     ]
    },
    {
     "data": {
      "text/plain": [
       "XGBRFRegressor(base_score=0.5, colsample_bylevel=1, colsample_bynode=0.8,\n",
       "        colsample_bytree=1, gamma=0, learning_rate=1, max_delta_step=0,\n",
       "        max_depth=3, min_child_weight=1, missing=None, n_estimators=100,\n",
       "        n_jobs=1, nthread=None, objective='reg:linear', random_state=0,\n",
       "        reg_alpha=0, reg_lambda=1, scale_pos_weight=1, seed=None,\n",
       "        silent=None, subsample=0.8, verbosity=1)"
      ]
     },
     "execution_count": 210,
     "metadata": {},
     "output_type": "execute_result"
    }
   ],
   "source": [
    "model=XGBRFRegressor()\n",
    "model.fit(pca_x_train,y_train)"
   ]
  },
  {
   "cell_type": "code",
   "execution_count": 211,
   "metadata": {},
   "outputs": [
    {
     "name": "stdout",
     "output_type": "stream",
     "text": [
      "0.9747845225621989\n"
     ]
    }
   ],
   "source": [
    "print(model.score(pca_x_train,y_train))\n"
   ]
  },
  {
   "cell_type": "markdown",
   "metadata": {},
   "source": [
    "1) The  projrct has ended upto here "
   ]
  },
  {
   "cell_type": "code",
   "execution_count": null,
   "metadata": {},
   "outputs": [],
   "source": []
  },
  {
   "cell_type": "code",
   "execution_count": null,
   "metadata": {},
   "outputs": [],
   "source": []
  },
  {
   "cell_type": "code",
   "execution_count": null,
   "metadata": {},
   "outputs": [],
   "source": []
  },
  {
   "cell_type": "code",
   "execution_count": null,
   "metadata": {},
   "outputs": [],
   "source": []
  },
  {
   "cell_type": "code",
   "execution_count": null,
   "metadata": {},
   "outputs": [],
   "source": []
  }
 ],
 "metadata": {
  "kernelspec": {
   "display_name": "Python 3",
   "language": "python",
   "name": "python3"
  },
  "language_info": {
   "codemirror_mode": {
    "name": "ipython",
    "version": 3
   },
   "file_extension": ".py",
   "mimetype": "text/x-python",
   "name": "python",
   "nbconvert_exporter": "python",
   "pygments_lexer": "ipython3",
   "version": "3.7.3"
  }
 },
 "nbformat": 4,
 "nbformat_minor": 2
}
